{
 "cells": [
  {
   "cell_type": "code",
   "execution_count": 139,
   "id": "bdb55f3e",
   "metadata": {},
   "outputs": [],
   "source": [
    "import numpy as np\n",
    "import pandas as pd\n",
    "from io import StringIO\n",
    "#import warnings\n",
    "#warnings.filterwarnings('ignore')\n",
    "import acquire\n",
    "import prepare\n",
    "# grab Decision Tree Classifier and some helping friends from sklearn.tree\n",
    "from sklearn.tree import DecisionTreeClassifier, plot_tree, export_text\n",
    "# get classification metrix for model assessment\n",
    "from sklearn.metrics import confusion_matrix, classification_report, ConfusionMatrixDisplay\n",
    "from sklearn.ensemble import RandomForestClassifier"
   ]
  },
  {
   "cell_type": "markdown",
   "id": "ac336ad3",
   "metadata": {},
   "source": [
    "Using the titanic data, in your classification-exercises repository, create a notebook, model.ipynb where you will do the following:"
   ]
  },
  {
   "cell_type": "markdown",
   "id": "207a23a2",
   "metadata": {},
   "source": [
    "\n",
    "1. What is your baseline prediction? What is your baseline accuracy? remember: your baseline prediction for a classification problem is predicting the most prevelant class in the training dataset (the mode). When you make those predictions, what is your accuracy? This is your baseline accuracy."
   ]
  },
  {
   "cell_type": "code",
   "execution_count": 2,
   "id": "b6be2979",
   "metadata": {},
   "outputs": [
    {
     "data": {
      "text/plain": [
       "((534, 10), (178, 10), (179, 10))"
      ]
     },
     "execution_count": 2,
     "metadata": {},
     "output_type": "execute_result"
    }
   ],
   "source": [
    "#acquire train data \n",
    "df = acquire.get_titanic_data()\n",
    "train, validate, test = prepare.prep_titanic_data(df)\n",
    "train.shape, validate.shape, test.shape"
   ]
  },
  {
   "cell_type": "code",
   "execution_count": 3,
   "id": "e4ba77a2",
   "metadata": {},
   "outputs": [
    {
     "data": {
      "text/html": [
       "<div>\n",
       "<style scoped>\n",
       "    .dataframe tbody tr th:only-of-type {\n",
       "        vertical-align: middle;\n",
       "    }\n",
       "\n",
       "    .dataframe tbody tr th {\n",
       "        vertical-align: top;\n",
       "    }\n",
       "\n",
       "    .dataframe thead th {\n",
       "        text-align: right;\n",
       "    }\n",
       "</style>\n",
       "<table border=\"1\" class=\"dataframe\">\n",
       "  <thead>\n",
       "    <tr style=\"text-align: right;\">\n",
       "      <th></th>\n",
       "      <th>passenger_id</th>\n",
       "      <th>survived</th>\n",
       "      <th>pclass</th>\n",
       "      <th>sibsp</th>\n",
       "      <th>parch</th>\n",
       "      <th>fare</th>\n",
       "      <th>alone</th>\n",
       "      <th>sex_male</th>\n",
       "      <th>embark_town_Queenstown</th>\n",
       "      <th>embark_town_Southampton</th>\n",
       "    </tr>\n",
       "  </thead>\n",
       "  <tbody>\n",
       "    <tr>\n",
       "      <th>455</th>\n",
       "      <td>455</td>\n",
       "      <td>1</td>\n",
       "      <td>3</td>\n",
       "      <td>0</td>\n",
       "      <td>0</td>\n",
       "      <td>7.8958</td>\n",
       "      <td>1</td>\n",
       "      <td>1</td>\n",
       "      <td>0</td>\n",
       "      <td>0</td>\n",
       "    </tr>\n",
       "    <tr>\n",
       "      <th>380</th>\n",
       "      <td>380</td>\n",
       "      <td>1</td>\n",
       "      <td>1</td>\n",
       "      <td>0</td>\n",
       "      <td>0</td>\n",
       "      <td>227.5250</td>\n",
       "      <td>1</td>\n",
       "      <td>0</td>\n",
       "      <td>0</td>\n",
       "      <td>0</td>\n",
       "    </tr>\n",
       "    <tr>\n",
       "      <th>492</th>\n",
       "      <td>492</td>\n",
       "      <td>0</td>\n",
       "      <td>1</td>\n",
       "      <td>0</td>\n",
       "      <td>0</td>\n",
       "      <td>30.5000</td>\n",
       "      <td>1</td>\n",
       "      <td>1</td>\n",
       "      <td>0</td>\n",
       "      <td>1</td>\n",
       "    </tr>\n",
       "    <tr>\n",
       "      <th>55</th>\n",
       "      <td>55</td>\n",
       "      <td>1</td>\n",
       "      <td>1</td>\n",
       "      <td>0</td>\n",
       "      <td>0</td>\n",
       "      <td>35.5000</td>\n",
       "      <td>1</td>\n",
       "      <td>1</td>\n",
       "      <td>0</td>\n",
       "      <td>1</td>\n",
       "    </tr>\n",
       "    <tr>\n",
       "      <th>243</th>\n",
       "      <td>243</td>\n",
       "      <td>0</td>\n",
       "      <td>3</td>\n",
       "      <td>0</td>\n",
       "      <td>0</td>\n",
       "      <td>7.1250</td>\n",
       "      <td>1</td>\n",
       "      <td>1</td>\n",
       "      <td>0</td>\n",
       "      <td>1</td>\n",
       "    </tr>\n",
       "  </tbody>\n",
       "</table>\n",
       "</div>"
      ],
      "text/plain": [
       "     passenger_id  survived  pclass  sibsp  parch      fare  alone  sex_male  \\\n",
       "455           455         1       3      0      0    7.8958      1         1   \n",
       "380           380         1       1      0      0  227.5250      1         0   \n",
       "492           492         0       1      0      0   30.5000      1         1   \n",
       "55             55         1       1      0      0   35.5000      1         1   \n",
       "243           243         0       3      0      0    7.1250      1         1   \n",
       "\n",
       "     embark_town_Queenstown  embark_town_Southampton  \n",
       "455                       0                        0  \n",
       "380                       0                        0  \n",
       "492                       0                        1  \n",
       "55                        0                        1  \n",
       "243                       0                        1  "
      ]
     },
     "execution_count": 3,
     "metadata": {},
     "output_type": "execute_result"
    }
   ],
   "source": [
    "train.head()"
   ]
  },
  {
   "cell_type": "code",
   "execution_count": 4,
   "id": "dbe5f3a6",
   "metadata": {},
   "outputs": [
    {
     "name": "stdout",
     "output_type": "stream",
     "text": [
      "<class 'pandas.core.frame.DataFrame'>\n",
      "Int64Index: 534 entries, 455 to 496\n",
      "Data columns (total 10 columns):\n",
      " #   Column                   Non-Null Count  Dtype  \n",
      "---  ------                   --------------  -----  \n",
      " 0   passenger_id             534 non-null    int64  \n",
      " 1   survived                 534 non-null    int64  \n",
      " 2   pclass                   534 non-null    int64  \n",
      " 3   sibsp                    534 non-null    int64  \n",
      " 4   parch                    534 non-null    int64  \n",
      " 5   fare                     534 non-null    float64\n",
      " 6   alone                    534 non-null    int64  \n",
      " 7   sex_male                 534 non-null    uint8  \n",
      " 8   embark_town_Queenstown   534 non-null    uint8  \n",
      " 9   embark_town_Southampton  534 non-null    uint8  \n",
      "dtypes: float64(1), int64(6), uint8(3)\n",
      "memory usage: 34.9 KB\n"
     ]
    }
   ],
   "source": [
    "train.info()"
   ]
  },
  {
   "cell_type": "code",
   "execution_count": 5,
   "id": "27b4e546",
   "metadata": {},
   "outputs": [],
   "source": [
    "# X is going to be our entire domain, indepedent variables, minus the target variable\n",
    "# y is going to be our target variable, the dependent thing that we are using X to predict\n",
    "\n",
    "X_train = train.drop(columns = \"survived\")\n",
    "y_train = train.survived\n",
    "X_validate = validate.drop(columns = \"survived\")\n",
    "y_validate = validate.survived\n",
    "X_test = test.drop(columns = \"survived\")\n",
    "y_test = test.survived"
   ]
  },
  {
   "cell_type": "code",
   "execution_count": 6,
   "id": "1190edee",
   "metadata": {},
   "outputs": [
    {
     "data": {
      "text/html": [
       "<div>\n",
       "<style scoped>\n",
       "    .dataframe tbody tr th:only-of-type {\n",
       "        vertical-align: middle;\n",
       "    }\n",
       "\n",
       "    .dataframe tbody tr th {\n",
       "        vertical-align: top;\n",
       "    }\n",
       "\n",
       "    .dataframe thead th {\n",
       "        text-align: right;\n",
       "    }\n",
       "</style>\n",
       "<table border=\"1\" class=\"dataframe\">\n",
       "  <thead>\n",
       "    <tr style=\"text-align: right;\">\n",
       "      <th></th>\n",
       "      <th>passenger_id</th>\n",
       "      <th>pclass</th>\n",
       "      <th>sibsp</th>\n",
       "      <th>parch</th>\n",
       "      <th>fare</th>\n",
       "      <th>alone</th>\n",
       "      <th>sex_male</th>\n",
       "      <th>embark_town_Queenstown</th>\n",
       "      <th>embark_town_Southampton</th>\n",
       "    </tr>\n",
       "  </thead>\n",
       "  <tbody>\n",
       "    <tr>\n",
       "      <th>455</th>\n",
       "      <td>455</td>\n",
       "      <td>3</td>\n",
       "      <td>0</td>\n",
       "      <td>0</td>\n",
       "      <td>7.8958</td>\n",
       "      <td>1</td>\n",
       "      <td>1</td>\n",
       "      <td>0</td>\n",
       "      <td>0</td>\n",
       "    </tr>\n",
       "    <tr>\n",
       "      <th>380</th>\n",
       "      <td>380</td>\n",
       "      <td>1</td>\n",
       "      <td>0</td>\n",
       "      <td>0</td>\n",
       "      <td>227.5250</td>\n",
       "      <td>1</td>\n",
       "      <td>0</td>\n",
       "      <td>0</td>\n",
       "      <td>0</td>\n",
       "    </tr>\n",
       "    <tr>\n",
       "      <th>492</th>\n",
       "      <td>492</td>\n",
       "      <td>1</td>\n",
       "      <td>0</td>\n",
       "      <td>0</td>\n",
       "      <td>30.5000</td>\n",
       "      <td>1</td>\n",
       "      <td>1</td>\n",
       "      <td>0</td>\n",
       "      <td>1</td>\n",
       "    </tr>\n",
       "    <tr>\n",
       "      <th>55</th>\n",
       "      <td>55</td>\n",
       "      <td>1</td>\n",
       "      <td>0</td>\n",
       "      <td>0</td>\n",
       "      <td>35.5000</td>\n",
       "      <td>1</td>\n",
       "      <td>1</td>\n",
       "      <td>0</td>\n",
       "      <td>1</td>\n",
       "    </tr>\n",
       "    <tr>\n",
       "      <th>243</th>\n",
       "      <td>243</td>\n",
       "      <td>3</td>\n",
       "      <td>0</td>\n",
       "      <td>0</td>\n",
       "      <td>7.1250</td>\n",
       "      <td>1</td>\n",
       "      <td>1</td>\n",
       "      <td>0</td>\n",
       "      <td>1</td>\n",
       "    </tr>\n",
       "  </tbody>\n",
       "</table>\n",
       "</div>"
      ],
      "text/plain": [
       "     passenger_id  pclass  sibsp  parch      fare  alone  sex_male  \\\n",
       "455           455       3      0      0    7.8958      1         1   \n",
       "380           380       1      0      0  227.5250      1         0   \n",
       "492           492       1      0      0   30.5000      1         1   \n",
       "55             55       1      0      0   35.5000      1         1   \n",
       "243           243       3      0      0    7.1250      1         1   \n",
       "\n",
       "     embark_town_Queenstown  embark_town_Southampton  \n",
       "455                       0                        0  \n",
       "380                       0                        0  \n",
       "492                       0                        1  \n",
       "55                        0                        1  \n",
       "243                       0                        1  "
      ]
     },
     "execution_count": 6,
     "metadata": {},
     "output_type": "execute_result"
    }
   ],
   "source": [
    "#check X_train: independent variable\n",
    "X_train.head()"
   ]
  },
  {
   "cell_type": "code",
   "execution_count": 7,
   "id": "32f6346e",
   "metadata": {},
   "outputs": [
    {
     "data": {
      "text/plain": [
       "455    1\n",
       "380    1\n",
       "492    0\n",
       "55     1\n",
       "243    0\n",
       "Name: survived, dtype: int64"
      ]
     },
     "execution_count": 7,
     "metadata": {},
     "output_type": "execute_result"
    }
   ],
   "source": [
    "#check the target variable\n",
    "y_train.head()"
   ]
  },
  {
   "cell_type": "code",
   "execution_count": 8,
   "id": "f06425bb",
   "metadata": {},
   "outputs": [
    {
     "data": {
      "text/plain": [
       "0    329\n",
       "1    205\n",
       "Name: survived, dtype: int64"
      ]
     },
     "execution_count": 8,
     "metadata": {},
     "output_type": "execute_result"
    }
   ],
   "source": [
    "#value counts the target variable\n",
    "y_train.value_counts()"
   ]
  },
  {
   "cell_type": "code",
   "execution_count": 9,
   "id": "d3755260",
   "metadata": {},
   "outputs": [
    {
     "data": {
      "text/plain": [
       "0    0.616105\n",
       "1    0.383895\n",
       "Name: survived, dtype: float64"
      ]
     },
     "execution_count": 9,
     "metadata": {},
     "output_type": "execute_result"
    }
   ],
   "source": [
    "y_train.value_counts(normalize = True)"
   ]
  },
  {
   "cell_type": "markdown",
   "id": "9ad002dc",
   "metadata": {},
   "source": [
    "baseline model is the mode of target varible, which is did not survive in this case.\n",
    "baseline accuracy is the percent value of baseline model here which is 61.61% here"
   ]
  },
  {
   "cell_type": "markdown",
   "id": "57a6eb96",
   "metadata": {},
   "source": [
    "2. Fit the decision tree classifier to your training sample and transform (i.e. make predictions on the training sample)"
   ]
  },
  {
   "cell_type": "code",
   "execution_count": 10,
   "id": "ca5eab4f",
   "metadata": {},
   "outputs": [],
   "source": [
    "# create decision tree\n",
    "model1 = DecisionTreeClassifier(max_depth=1)"
   ]
  },
  {
   "cell_type": "code",
   "execution_count": 11,
   "id": "68500977",
   "metadata": {},
   "outputs": [
    {
     "data": {
      "text/plain": [
       "DecisionTreeClassifier(max_depth=1)"
      ]
     },
     "execution_count": 11,
     "metadata": {},
     "output_type": "execute_result"
    }
   ],
   "source": [
    "#fit the random forest algorithm on to training sample\n",
    "model1.fit(X_train,y_train)"
   ]
  },
  {
   "cell_type": "code",
   "execution_count": 12,
   "id": "30297a22",
   "metadata": {},
   "outputs": [
    {
     "data": {
      "text/plain": [
       "array([0, 1, 0, 0, 0, 0, 1, 0, 0, 1, 0, 0, 0, 0, 0, 0, 0, 0, 0, 0, 1, 1,\n",
       "       1, 0, 0, 0, 0, 0, 1, 0, 0, 0, 0, 0, 1, 0, 0, 0, 0, 1, 1, 0, 0, 1,\n",
       "       0, 0, 0, 1, 0, 0, 0, 1, 0, 1, 0, 0, 0, 0, 1, 1, 0, 0, 0, 0, 1, 1,\n",
       "       0, 1, 0, 1, 0, 1, 0, 1, 0, 0, 0, 1, 0, 0, 1, 0, 0, 1, 0, 0, 0, 1,\n",
       "       0, 0, 1, 0, 0, 0, 1, 0, 0, 0, 0, 0, 0, 1, 0, 0, 1, 1, 1, 1, 0, 0,\n",
       "       0, 0, 0, 0, 0, 1, 1, 1, 0, 0, 1, 0, 1, 0, 1, 0, 0, 0, 1, 1, 0, 1,\n",
       "       0, 0, 0, 0, 1, 0, 1, 1, 0, 1, 0, 0, 1, 0, 0, 1, 0, 1, 1, 0, 0, 1,\n",
       "       0, 0, 0, 0, 0, 0, 0, 0, 1, 0, 0, 0, 0, 1, 0, 0, 1, 0, 1, 1, 1, 1,\n",
       "       1, 0, 0, 1, 0, 0, 0, 0, 1, 0, 0, 1, 1, 0, 0, 0, 0, 0, 0, 1, 1, 0,\n",
       "       0, 0, 1, 0, 0, 0, 1, 1, 0, 0, 1, 0, 0, 1, 0, 0, 0, 1, 1, 1, 1, 0,\n",
       "       0, 0, 0, 0, 0, 1, 0, 1, 0, 0, 0, 1, 1, 1, 0, 1, 1, 0, 1, 0, 0, 1,\n",
       "       1, 1, 0, 0, 1, 1, 0, 0, 0, 0, 0, 0, 1, 1, 0, 0, 0, 0, 1, 1, 1, 0,\n",
       "       1, 0, 0, 0, 0, 1, 1, 0, 0, 1, 1, 0, 0, 0, 1, 1, 0, 1, 1, 0, 1, 0,\n",
       "       1, 1, 0, 0, 1, 1, 0, 1, 0, 0, 0, 0, 1, 1, 0, 0, 0, 0, 0, 0, 0, 1,\n",
       "       1, 1, 0, 0, 0, 1, 0, 0, 0, 0, 0, 1, 0, 0, 0, 1, 0, 0, 1, 0, 0, 0,\n",
       "       0, 0, 0, 0, 1, 0, 0, 0, 1, 0, 0, 0, 1, 1, 1, 0, 0, 0, 1, 0, 1, 0,\n",
       "       1, 1, 0, 0, 0, 0, 0, 1, 1, 0, 0, 1, 0, 1, 0, 1, 0, 1, 0, 1, 0, 0,\n",
       "       1, 0, 1, 1, 1, 1, 0, 0, 0, 0, 0, 0, 0, 0, 0, 1, 1, 0, 1, 0, 0, 1,\n",
       "       1, 0, 1, 0, 0, 0, 0, 0, 1, 0, 0, 0, 0, 0, 0, 0, 0, 1, 0, 1, 0, 1,\n",
       "       0, 0, 0, 0, 0, 0, 0, 1, 0, 0, 0, 1, 0, 1, 0, 1, 0, 0, 0, 1, 0, 0,\n",
       "       0, 0, 0, 1, 0, 0, 1, 0, 1, 0, 0, 0, 0, 0, 1, 0, 1, 1, 0, 0, 0, 0,\n",
       "       0, 1, 1, 0, 1, 0, 1, 1, 1, 0, 1, 0, 0, 0, 0, 1, 1, 1, 0, 0, 1, 0,\n",
       "       0, 1, 0, 0, 0, 1, 0, 0, 1, 1, 0, 0, 1, 1, 0, 0, 1, 1, 0, 0, 0, 0,\n",
       "       0, 0, 1, 0, 1, 0, 1, 0, 0, 0, 0, 0, 0, 1, 1, 0, 1, 0, 0, 1, 0, 0,\n",
       "       0, 0, 1, 0, 0, 1])"
      ]
     },
     "execution_count": 12,
     "metadata": {},
     "output_type": "execute_result"
    }
   ],
   "source": [
    "#make prediction on train observation\n",
    "y_pred = model1.predict(X_train)\n",
    "y_pred"
   ]
  },
  {
   "cell_type": "code",
   "execution_count": 13,
   "id": "3d6e8be7",
   "metadata": {},
   "outputs": [
    {
     "data": {
      "text/plain": [
       "array([[0.81321839, 0.18678161],\n",
       "       [0.24731183, 0.75268817],\n",
       "       [0.81321839, 0.18678161],\n",
       "       ...,\n",
       "       [0.81321839, 0.18678161],\n",
       "       [0.81321839, 0.18678161],\n",
       "       [0.24731183, 0.75268817]])"
      ]
     },
     "execution_count": 13,
     "metadata": {},
     "output_type": "execute_result"
    }
   ],
   "source": [
    "#estimate probability\n",
    "y_pred_proba = model1.predict_proba(X_train)\n",
    "y_pred_proba"
   ]
  },
  {
   "cell_type": "markdown",
   "id": "4b2082c0",
   "metadata": {},
   "source": [
    "#3. Evaluate your in-sample results using the model score, confusion matrix, and classification report."
   ]
  },
  {
   "cell_type": "code",
   "execution_count": 14,
   "id": "d948c631",
   "metadata": {},
   "outputs": [
    {
     "data": {
      "text/plain": [
       "0.79"
      ]
     },
     "execution_count": 14,
     "metadata": {},
     "output_type": "execute_result"
    }
   ],
   "source": [
    "#accuracy of decision tree classifier on training set: \n",
    "round(model1.score(X_train,y_train),2)"
   ]
  },
  {
   "cell_type": "code",
   "execution_count": 15,
   "id": "8bd7f3f6",
   "metadata": {},
   "outputs": [
    {
     "data": {
      "text/plain": [
       "0.7921348314606742"
      ]
     },
     "execution_count": 15,
     "metadata": {},
     "output_type": "execute_result"
    }
   ],
   "source": [
    "# y_train, y_predict should also give same accuracy score\n",
    "accuracy_score(y_train,y_pred)"
   ]
  },
  {
   "cell_type": "code",
   "execution_count": 16,
   "id": "a24620d0",
   "metadata": {},
   "outputs": [
    {
     "data": {
      "text/plain": [
       "array([[283,  46],\n",
       "       [ 65, 140]])"
      ]
     },
     "execution_count": 16,
     "metadata": {},
     "output_type": "execute_result"
    }
   ],
   "source": [
    "#confusin matrix\n",
    "confusion_matrix(y_train,y_pred)"
   ]
  },
  {
   "cell_type": "code",
   "execution_count": 17,
   "id": "fa7fb6e6",
   "metadata": {},
   "outputs": [
    {
     "data": {
      "text/html": [
       "<div>\n",
       "<style scoped>\n",
       "    .dataframe tbody tr th:only-of-type {\n",
       "        vertical-align: middle;\n",
       "    }\n",
       "\n",
       "    .dataframe tbody tr th {\n",
       "        vertical-align: top;\n",
       "    }\n",
       "\n",
       "    .dataframe thead th {\n",
       "        text-align: right;\n",
       "    }\n",
       "</style>\n",
       "<table border=\"1\" class=\"dataframe\">\n",
       "  <thead>\n",
       "    <tr style=\"text-align: right;\">\n",
       "      <th></th>\n",
       "      <th>0</th>\n",
       "      <th>1</th>\n",
       "      <th>accuracy</th>\n",
       "      <th>macro avg</th>\n",
       "      <th>weighted avg</th>\n",
       "    </tr>\n",
       "  </thead>\n",
       "  <tbody>\n",
       "    <tr>\n",
       "      <th>precision</th>\n",
       "      <td>0.813218</td>\n",
       "      <td>0.752688</td>\n",
       "      <td>0.792135</td>\n",
       "      <td>0.782953</td>\n",
       "      <td>0.789981</td>\n",
       "    </tr>\n",
       "    <tr>\n",
       "      <th>recall</th>\n",
       "      <td>0.860182</td>\n",
       "      <td>0.682927</td>\n",
       "      <td>0.792135</td>\n",
       "      <td>0.771555</td>\n",
       "      <td>0.792135</td>\n",
       "    </tr>\n",
       "    <tr>\n",
       "      <th>f1-score</th>\n",
       "      <td>0.836041</td>\n",
       "      <td>0.716113</td>\n",
       "      <td>0.792135</td>\n",
       "      <td>0.776077</td>\n",
       "      <td>0.790001</td>\n",
       "    </tr>\n",
       "    <tr>\n",
       "      <th>support</th>\n",
       "      <td>329.000000</td>\n",
       "      <td>205.000000</td>\n",
       "      <td>0.792135</td>\n",
       "      <td>534.000000</td>\n",
       "      <td>534.000000</td>\n",
       "    </tr>\n",
       "  </tbody>\n",
       "</table>\n",
       "</div>"
      ],
      "text/plain": [
       "                    0           1  accuracy   macro avg  weighted avg\n",
       "precision    0.813218    0.752688  0.792135    0.782953      0.789981\n",
       "recall       0.860182    0.682927  0.792135    0.771555      0.792135\n",
       "f1-score     0.836041    0.716113  0.792135    0.776077      0.790001\n",
       "support    329.000000  205.000000  0.792135  534.000000    534.000000"
      ]
     },
     "execution_count": 17,
     "metadata": {},
     "output_type": "execute_result"
    }
   ],
   "source": [
    "pd.DataFrame(classification_report(y_train,y_pred, output_dict=True))"
   ]
  },
  {
   "cell_type": "code",
   "execution_count": 18,
   "id": "c011d62b",
   "metadata": {},
   "outputs": [
    {
     "data": {
      "text/plain": [
       "[Text(0.5, 0.75, 'sex_male <= 0.5\\ngini = 0.473\\nsamples = 534\\nvalue = [329, 205]\\nclass = perished'),\n",
       " Text(0.25, 0.25, 'gini = 0.372\\nsamples = 186\\nvalue = [46, 140]\\nclass = survived'),\n",
       " Text(0.75, 0.25, 'gini = 0.304\\nsamples = 348\\nvalue = [283, 65]\\nclass = perished')]"
      ]
     },
     "execution_count": 18,
     "metadata": {},
     "output_type": "execute_result"
    },
    {
     "data": {
      "image/png": "[encoded data removed]",
      "text/plain": [
       "<Figure size 1728x864 with 1 Axes>"
      ]
     },
     "metadata": {
      "needs_background": "light"
     },
     "output_type": "display_data"
    }
   ],
   "source": [
    "import matplotlib.pyplot as plt\n",
    "plt.figure(figsize = (24,12))\n",
    "plot_tree(model1,\n",
    "          feature_names = X_train.columns.tolist(),\n",
    "         class_names  = [\"perished\",\"survived\"],\n",
    "         filled = True,\n",
    "         rounded = True)"
   ]
  },
  {
   "cell_type": "markdown",
   "id": "00446258",
   "metadata": {},
   "source": [
    "4. Compute: Accuracy, true positive rate, false positive rate, true negative rate, false negative rate, precision, recall, f1-score, and support.\n",
    "\n"
   ]
  },
  {
   "cell_type": "code",
   "execution_count": 19,
   "id": "07bc3e24",
   "metadata": {},
   "outputs": [
    {
     "data": {
      "text/plain": [
       "array([[283,  46],\n",
       "       [ 65, 140]])"
      ]
     },
     "execution_count": 19,
     "metadata": {},
     "output_type": "execute_result"
    }
   ],
   "source": [
    "con= confusion_matrix(y_train,y_pred)\n",
    "con"
   ]
  },
  {
   "cell_type": "code",
   "execution_count": 20,
   "id": "95433f09",
   "metadata": {},
   "outputs": [
    {
     "data": {
      "text/html": [
       "<div>\n",
       "<style scoped>\n",
       "    .dataframe tbody tr th:only-of-type {\n",
       "        vertical-align: middle;\n",
       "    }\n",
       "\n",
       "    .dataframe tbody tr th {\n",
       "        vertical-align: top;\n",
       "    }\n",
       "\n",
       "    .dataframe thead th {\n",
       "        text-align: right;\n",
       "    }\n",
       "</style>\n",
       "<table border=\"1\" class=\"dataframe\">\n",
       "  <thead>\n",
       "    <tr style=\"text-align: right;\">\n",
       "      <th></th>\n",
       "      <th>pred_death</th>\n",
       "      <th>pred_survive</th>\n",
       "    </tr>\n",
       "  </thead>\n",
       "  <tbody>\n",
       "    <tr>\n",
       "      <th>actual_death</th>\n",
       "      <td>TN</td>\n",
       "      <td>FP</td>\n",
       "    </tr>\n",
       "    <tr>\n",
       "      <th>actual_suvive</th>\n",
       "      <td>FN</td>\n",
       "      <td>TP</td>\n",
       "    </tr>\n",
       "  </tbody>\n",
       "</table>\n",
       "</div>"
      ],
      "text/plain": [
       "              pred_death pred_survive\n",
       "actual_death          TN           FP\n",
       "actual_suvive         FN           TP"
      ]
     },
     "execution_count": 20,
     "metadata": {},
     "output_type": "execute_result"
    }
   ],
   "source": [
    "#using great stuff Madaline showed\n",
    "rubric_df = pd.DataFrame({\n",
    "    \"pred_death\": [\"TN\",\"FN\"],\n",
    "    \"pred_survive\":[\"FP\", \"TP\"]\n",
    "}\n",
    "    ,index=[\"actual_death\",\"actual_suvive\"]\n",
    ")\n",
    "rubric_df"
   ]
  },
  {
   "cell_type": "code",
   "execution_count": 21,
   "id": "0987e1a1",
   "metadata": {
    "scrolled": true
   },
   "outputs": [
    {
     "data": {
      "text/html": [
       "<div>\n",
       "<style scoped>\n",
       "    .dataframe tbody tr th:only-of-type {\n",
       "        vertical-align: middle;\n",
       "    }\n",
       "\n",
       "    .dataframe tbody tr th {\n",
       "        vertical-align: top;\n",
       "    }\n",
       "\n",
       "    .dataframe thead th {\n",
       "        text-align: right;\n",
       "    }\n",
       "</style>\n",
       "<table border=\"1\" class=\"dataframe\">\n",
       "  <thead>\n",
       "    <tr style=\"text-align: right;\">\n",
       "      <th></th>\n",
       "      <th>pred_death</th>\n",
       "      <th>pred_survive</th>\n",
       "    </tr>\n",
       "  </thead>\n",
       "  <tbody>\n",
       "    <tr>\n",
       "      <th>actual_death</th>\n",
       "      <td>TN:283</td>\n",
       "      <td>FP:46</td>\n",
       "    </tr>\n",
       "    <tr>\n",
       "      <th>actual_suvive</th>\n",
       "      <td>FN:65</td>\n",
       "      <td>TP:140</td>\n",
       "    </tr>\n",
       "  </tbody>\n",
       "</table>\n",
       "</div>"
      ],
      "text/plain": [
       "              pred_death pred_survive\n",
       "actual_death      TN:283        FP:46\n",
       "actual_suvive      FN:65       TP:140"
      ]
     },
     "execution_count": 21,
     "metadata": {},
     "output_type": "execute_result"
    }
   ],
   "source": [
    "#combine the con with rubric \n",
    "rubric_df + ':' + con.astype(str)"
   ]
  },
  {
   "cell_type": "code",
   "execution_count": 25,
   "id": "b0b0a22f",
   "metadata": {},
   "outputs": [],
   "source": [
    "#our values\n",
    "TN = 283\n",
    "FP= 46\n",
    "FN=65\n",
    "TP=140"
   ]
  },
  {
   "cell_type": "markdown",
   "id": "e8f8acb1",
   "metadata": {},
   "source": [
    "4. Compute: Accuracy, true positive rate, false positive rate, true negative rate, false negative rate, precision, recall, f1-score, and support."
   ]
  },
  {
   "cell_type": "code",
   "execution_count": 26,
   "id": "893df7c9",
   "metadata": {},
   "outputs": [
    {
     "data": {
      "text/plain": [
       "0.7921348314606742"
      ]
     },
     "execution_count": 26,
     "metadata": {},
     "output_type": "execute_result"
    }
   ],
   "source": [
    "accuracy = (TP+TN)/(TP+TN+FP+FN)\n",
    "accuracy "
   ]
  },
  {
   "cell_type": "code",
   "execution_count": 36,
   "id": "3d87b26f",
   "metadata": {},
   "outputs": [
    {
     "data": {
      "text/plain": [
       "0.6829268292682927"
      ]
     },
     "execution_count": 36,
     "metadata": {},
     "output_type": "execute_result"
    }
   ],
   "source": [
    "#true positive rate is same as recall\n",
    "true_positive_rate = TP/(TP+FN)\n",
    "true_positive_rate"
   ]
  },
  {
   "cell_type": "code",
   "execution_count": 28,
   "id": "afbeb48b",
   "metadata": {},
   "outputs": [
    {
     "data": {
      "text/plain": [
       "0.1398176291793313"
      ]
     },
     "execution_count": 28,
     "metadata": {},
     "output_type": "execute_result"
    }
   ],
   "source": [
    "false_positive_rate = FP/(FP+TN)\n",
    "false_positive_rate"
   ]
  },
  {
   "cell_type": "code",
   "execution_count": 30,
   "id": "eae4a900",
   "metadata": {},
   "outputs": [
    {
     "data": {
      "text/plain": [
       "0.3170731707317073"
      ]
     },
     "execution_count": 30,
     "metadata": {},
     "output_type": "execute_result"
    }
   ],
   "source": [
    "true_negative_rate = FN/(FN+TP)\n",
    "true_negative_rate"
   ]
  },
  {
   "cell_type": "code",
   "execution_count": 31,
   "id": "3ed4cf3a",
   "metadata": {},
   "outputs": [
    {
     "data": {
      "text/plain": [
       "0.7526881720430108"
      ]
     },
     "execution_count": 31,
     "metadata": {},
     "output_type": "execute_result"
    }
   ],
   "source": [
    "precision = TP/(TP+FP)\n",
    "precision"
   ]
  },
  {
   "cell_type": "code",
   "execution_count": 37,
   "id": "659089b4",
   "metadata": {},
   "outputs": [],
   "source": [
    "#recall is same as true positive rate\n",
    "recall = true_positive_rate"
   ]
  },
  {
   "cell_type": "code",
   "execution_count": 38,
   "id": "067d9c34",
   "metadata": {},
   "outputs": [
    {
     "data": {
      "text/plain": [
       "0.7161125319693095"
      ]
     },
     "execution_count": 38,
     "metadata": {},
     "output_type": "execute_result"
    }
   ],
   "source": [
    "f1_score = 2 * (precision * recall)/(precision+recall)\n",
    "f1_score"
   ]
  },
  {
   "cell_type": "code",
   "execution_count": 40,
   "id": "6ebfcd88",
   "metadata": {},
   "outputs": [
    {
     "data": {
      "text/plain": [
       "205"
      ]
     },
     "execution_count": 40,
     "metadata": {},
     "output_type": "execute_result"
    }
   ],
   "source": [
    "support_positive = TP + FN\n",
    "support_positive"
   ]
  },
  {
   "cell_type": "code",
   "execution_count": 41,
   "id": "428abc04",
   "metadata": {},
   "outputs": [
    {
     "data": {
      "text/plain": [
       "329"
      ]
     },
     "execution_count": 41,
     "metadata": {},
     "output_type": "execute_result"
    }
   ],
   "source": [
    "support_negative = FP + TN\n",
    "support_negative"
   ]
  },
  {
   "cell_type": "markdown",
   "id": "a7479fc4",
   "metadata": {},
   "source": [
    "5. Run through steps 2-4 using a different max_depth value."
   ]
  },
  {
   "cell_type": "code",
   "execution_count": 42,
   "id": "ce64b390",
   "metadata": {},
   "outputs": [
    {
     "data": {
      "text/plain": [
       "DecisionTreeClassifier(max_depth=3)"
      ]
     },
     "execution_count": 42,
     "metadata": {},
     "output_type": "execute_result"
    }
   ],
   "source": [
    "#make another decision tree classifier and fit training data\n",
    "model2 = DecisionTreeClassifier(max_depth = 3)\n",
    "model2.fit(X_train,y_train)"
   ]
  },
  {
   "cell_type": "code",
   "execution_count": 43,
   "id": "859c0537",
   "metadata": {},
   "outputs": [
    {
     "data": {
      "text/plain": [
       "array([0, 1, 0, 0, 0, 0, 1, 0, 0, 1, 0, 0, 0, 0, 0, 0, 0, 0, 0, 0, 1, 1,\n",
       "       0, 0, 0, 0, 0, 0, 1, 0, 0, 0, 0, 1, 1, 0, 0, 0, 0, 1, 1, 0, 0, 1,\n",
       "       0, 0, 0, 1, 0, 0, 0, 1, 0, 1, 0, 0, 0, 0, 0, 1, 0, 1, 0, 0, 1, 1,\n",
       "       0, 1, 0, 1, 0, 1, 0, 1, 0, 0, 0, 1, 0, 0, 1, 0, 0, 1, 0, 0, 0, 1,\n",
       "       0, 0, 1, 0, 0, 0, 1, 0, 0, 0, 0, 0, 0, 1, 0, 0, 1, 1, 1, 1, 0, 0,\n",
       "       0, 0, 0, 0, 0, 1, 1, 1, 0, 0, 1, 0, 1, 0, 1, 0, 0, 0, 0, 1, 0, 1,\n",
       "       0, 0, 0, 0, 1, 0, 1, 1, 0, 0, 0, 0, 1, 0, 0, 1, 0, 1, 1, 0, 0, 0,\n",
       "       0, 0, 0, 0, 0, 0, 0, 0, 1, 0, 0, 0, 0, 1, 0, 0, 1, 0, 1, 1, 1, 1,\n",
       "       1, 0, 0, 1, 0, 0, 0, 0, 1, 0, 0, 1, 1, 0, 0, 0, 0, 0, 0, 1, 0, 0,\n",
       "       0, 0, 1, 0, 0, 0, 1, 1, 0, 0, 1, 0, 0, 0, 0, 0, 0, 0, 1, 1, 1, 0,\n",
       "       0, 1, 0, 0, 0, 1, 0, 1, 0, 0, 0, 1, 1, 1, 0, 1, 1, 0, 1, 0, 0, 1,\n",
       "       1, 1, 0, 0, 1, 1, 0, 0, 0, 0, 0, 0, 1, 1, 0, 0, 0, 0, 1, 1, 1, 0,\n",
       "       1, 0, 0, 0, 0, 1, 1, 0, 0, 1, 1, 0, 0, 0, 1, 1, 1, 1, 1, 0, 1, 0,\n",
       "       1, 1, 0, 0, 0, 1, 0, 1, 0, 0, 0, 0, 1, 0, 0, 0, 0, 0, 0, 0, 0, 1,\n",
       "       1, 1, 0, 0, 0, 1, 0, 0, 0, 0, 0, 1, 0, 0, 0, 1, 0, 0, 0, 0, 0, 0,\n",
       "       0, 0, 0, 0, 1, 0, 0, 0, 1, 0, 0, 0, 1, 0, 1, 0, 0, 0, 1, 0, 0, 0,\n",
       "       1, 1, 0, 0, 0, 0, 0, 1, 1, 0, 0, 1, 0, 1, 0, 1, 0, 1, 0, 1, 0, 0,\n",
       "       1, 0, 1, 1, 1, 1, 0, 0, 0, 0, 0, 0, 0, 0, 0, 1, 1, 0, 1, 0, 0, 1,\n",
       "       1, 0, 1, 0, 0, 0, 0, 0, 1, 0, 0, 0, 0, 0, 0, 0, 0, 1, 0, 1, 0, 1,\n",
       "       0, 0, 0, 0, 0, 0, 0, 1, 0, 0, 0, 1, 0, 1, 0, 1, 0, 0, 0, 1, 0, 0,\n",
       "       0, 0, 0, 1, 0, 0, 1, 0, 1, 0, 0, 0, 0, 0, 1, 0, 1, 1, 0, 0, 0, 0,\n",
       "       0, 1, 1, 0, 1, 0, 1, 1, 1, 0, 1, 0, 0, 0, 0, 1, 1, 1, 0, 0, 1, 0,\n",
       "       0, 1, 0, 0, 0, 1, 0, 0, 1, 1, 0, 0, 1, 1, 0, 0, 1, 1, 0, 0, 0, 0,\n",
       "       0, 0, 1, 0, 1, 0, 1, 0, 1, 0, 0, 0, 0, 1, 1, 0, 1, 0, 0, 1, 0, 0,\n",
       "       0, 0, 1, 0, 0, 1])"
      ]
     },
     "execution_count": 43,
     "metadata": {},
     "output_type": "execute_result"
    }
   ],
   "source": [
    "#make prediction on train observation on depedent variable\n",
    "y_pred = model2.predict(X_train)\n",
    "y_pred\n"
   ]
  },
  {
   "cell_type": "code",
   "execution_count": 44,
   "id": "7ffeaeae",
   "metadata": {},
   "outputs": [
    {
     "data": {
      "text/html": [
       "<div>\n",
       "<style scoped>\n",
       "    .dataframe tbody tr th:only-of-type {\n",
       "        vertical-align: middle;\n",
       "    }\n",
       "\n",
       "    .dataframe tbody tr th {\n",
       "        vertical-align: top;\n",
       "    }\n",
       "\n",
       "    .dataframe thead th {\n",
       "        text-align: right;\n",
       "    }\n",
       "</style>\n",
       "<table border=\"1\" class=\"dataframe\">\n",
       "  <thead>\n",
       "    <tr style=\"text-align: right;\">\n",
       "      <th>col_0</th>\n",
       "      <th>0</th>\n",
       "      <th>1</th>\n",
       "    </tr>\n",
       "    <tr>\n",
       "      <th>survived</th>\n",
       "      <th></th>\n",
       "      <th></th>\n",
       "    </tr>\n",
       "  </thead>\n",
       "  <tbody>\n",
       "    <tr>\n",
       "      <th>0</th>\n",
       "      <td>293</td>\n",
       "      <td>36</td>\n",
       "    </tr>\n",
       "    <tr>\n",
       "      <th>1</th>\n",
       "      <td>63</td>\n",
       "      <td>142</td>\n",
       "    </tr>\n",
       "  </tbody>\n",
       "</table>\n",
       "</div>"
      ],
      "text/plain": [
       "col_0       0    1\n",
       "survived          \n",
       "0         293   36\n",
       "1          63  142"
      ]
     },
     "execution_count": 44,
     "metadata": {},
     "output_type": "execute_result"
    }
   ],
   "source": [
    "#crosstab of actual and prediction, same as confusion matrix\n",
    "pd.crosstab(y_train,y_pred)"
   ]
  },
  {
   "cell_type": "code",
   "execution_count": 66,
   "id": "def80415",
   "metadata": {},
   "outputs": [
    {
     "data": {
      "text/plain": [
       "array([[293,  36],\n",
       "       [ 63, 142]])"
      ]
     },
     "execution_count": 66,
     "metadata": {},
     "output_type": "execute_result"
    }
   ],
   "source": [
    "confusion_matrix(y_train,y_pred)"
   ]
  },
  {
   "cell_type": "code",
   "execution_count": 68,
   "id": "27136a74",
   "metadata": {},
   "outputs": [
    {
     "data": {
      "text/plain": [
       "array([[0.90322581, 0.09677419],\n",
       "       [0.        , 1.        ],\n",
       "       [0.61458333, 0.38541667],\n",
       "       ...,\n",
       "       [0.90322581, 0.09677419],\n",
       "       [0.90322581, 0.09677419],\n",
       "       [0.        , 1.        ]])"
      ]
     },
     "execution_count": 68,
     "metadata": {},
     "output_type": "execute_result"
    }
   ],
   "source": [
    "#estimate probability\n",
    "y_pred_proba = model2.predict_proba(X_train)\n",
    "y_pred_proba"
   ]
  },
  {
   "cell_type": "code",
   "execution_count": 59,
   "id": "b23e9ae8",
   "metadata": {},
   "outputs": [
    {
     "data": {
      "text/html": [
       "<div>\n",
       "<style scoped>\n",
       "    .dataframe tbody tr th:only-of-type {\n",
       "        vertical-align: middle;\n",
       "    }\n",
       "\n",
       "    .dataframe tbody tr th {\n",
       "        vertical-align: top;\n",
       "    }\n",
       "\n",
       "    .dataframe thead th {\n",
       "        text-align: right;\n",
       "    }\n",
       "</style>\n",
       "<table border=\"1\" class=\"dataframe\">\n",
       "  <thead>\n",
       "    <tr style=\"text-align: right;\">\n",
       "      <th></th>\n",
       "      <th>0</th>\n",
       "      <th>1</th>\n",
       "      <th>accuracy</th>\n",
       "      <th>macro avg</th>\n",
       "      <th>weighted avg</th>\n",
       "    </tr>\n",
       "  </thead>\n",
       "  <tbody>\n",
       "    <tr>\n",
       "      <th>precision</th>\n",
       "      <td>0.823034</td>\n",
       "      <td>0.797753</td>\n",
       "      <td>0.814607</td>\n",
       "      <td>0.810393</td>\n",
       "      <td>0.813328</td>\n",
       "    </tr>\n",
       "    <tr>\n",
       "      <th>recall</th>\n",
       "      <td>0.890578</td>\n",
       "      <td>0.692683</td>\n",
       "      <td>0.814607</td>\n",
       "      <td>0.791630</td>\n",
       "      <td>0.814607</td>\n",
       "    </tr>\n",
       "    <tr>\n",
       "      <th>f1-score</th>\n",
       "      <td>0.855474</td>\n",
       "      <td>0.741514</td>\n",
       "      <td>0.814607</td>\n",
       "      <td>0.798494</td>\n",
       "      <td>0.811726</td>\n",
       "    </tr>\n",
       "    <tr>\n",
       "      <th>support</th>\n",
       "      <td>329.000000</td>\n",
       "      <td>205.000000</td>\n",
       "      <td>0.814607</td>\n",
       "      <td>534.000000</td>\n",
       "      <td>534.000000</td>\n",
       "    </tr>\n",
       "  </tbody>\n",
       "</table>\n",
       "</div>"
      ],
      "text/plain": [
       "                    0           1  accuracy   macro avg  weighted avg\n",
       "precision    0.823034    0.797753  0.814607    0.810393      0.813328\n",
       "recall       0.890578    0.692683  0.814607    0.791630      0.814607\n",
       "f1-score     0.855474    0.741514  0.814607    0.798494      0.811726\n",
       "support    329.000000  205.000000  0.814607  534.000000    534.000000"
      ]
     },
     "execution_count": 59,
     "metadata": {},
     "output_type": "execute_result"
    }
   ],
   "source": [
    "#classification report in a dataframe\n",
    "pd.DataFrame(classification_report(y_train,y_pred, output_dict=True))"
   ]
  },
  {
   "cell_type": "code",
   "execution_count": 47,
   "id": "d09d2596",
   "metadata": {},
   "outputs": [
    {
     "data": {
      "text/plain": [
       "[Text(0.5, 0.875, 'sex_male <= 0.5\\ngini = 0.473\\nsamples = 534\\nvalue = [329, 205]\\nclass = perished'),\n",
       " Text(0.25, 0.625, 'pclass <= 2.5\\ngini = 0.372\\nsamples = 186\\nvalue = [46, 140]\\nclass = survived'),\n",
       " Text(0.125, 0.375, 'passenger_id <= 298.0\\ngini = 0.078\\nsamples = 98\\nvalue = [4, 94]\\nclass = survived'),\n",
       " Text(0.0625, 0.125, 'gini = 0.252\\nsamples = 27\\nvalue = [4, 23]\\nclass = survived'),\n",
       " Text(0.1875, 0.125, 'gini = 0.0\\nsamples = 71\\nvalue = [0, 71]\\nclass = survived'),\n",
       " Text(0.375, 0.375, 'fare <= 24.808\\ngini = 0.499\\nsamples = 88\\nvalue = [42, 46]\\nclass = survived'),\n",
       " Text(0.3125, 0.125, 'gini = 0.48\\nsamples = 75\\nvalue = [30, 45]\\nclass = survived'),\n",
       " Text(0.4375, 0.125, 'gini = 0.142\\nsamples = 13\\nvalue = [12, 1]\\nclass = perished'),\n",
       " Text(0.75, 0.625, 'fare <= 18.275\\ngini = 0.304\\nsamples = 348\\nvalue = [283, 65]\\nclass = perished'),\n",
       " Text(0.625, 0.375, 'passenger_id <= 36.5\\ngini = 0.193\\nsamples = 222\\nvalue = [198, 24]\\nclass = perished'),\n",
       " Text(0.5625, 0.125, 'gini = 0.48\\nsamples = 5\\nvalue = [2, 3]\\nclass = survived'),\n",
       " Text(0.6875, 0.125, 'gini = 0.175\\nsamples = 217\\nvalue = [196, 21]\\nclass = perished'),\n",
       " Text(0.875, 0.375, 'passenger_id <= 164.5\\ngini = 0.439\\nsamples = 126\\nvalue = [85, 41]\\nclass = perished'),\n",
       " Text(0.8125, 0.125, 'gini = 0.231\\nsamples = 30\\nvalue = [26, 4]\\nclass = perished'),\n",
       " Text(0.9375, 0.125, 'gini = 0.474\\nsamples = 96\\nvalue = [59, 37]\\nclass = perished')]"
      ]
     },
     "execution_count": 47,
     "metadata": {},
     "output_type": "execute_result"
    },
    {
     "data": {
      "image/png": "[encoded data removed]",
      "text/plain": [
       "<Figure size 1728x864 with 1 Axes>"
      ]
     },
     "metadata": {
      "needs_background": "light"
     },
     "output_type": "display_data"
    }
   ],
   "source": [
    "#plot the tree\n",
    "plt.figure(figsize = (24,12))\n",
    "plot_tree(model2,\n",
    "          feature_names = X_train.columns.tolist(),\n",
    "         class_names  = [\"death\",\"survived\"],\n",
    "         filled = True,\n",
    "         rounded = True)"
   ]
  },
  {
   "cell_type": "code",
   "execution_count": 52,
   "id": "ec837ae2",
   "metadata": {},
   "outputs": [
    {
     "data": {
      "text/plain": [
       "array([[293,  36],\n",
       "       [ 63, 142]])"
      ]
     },
     "execution_count": 52,
     "metadata": {},
     "output_type": "execute_result"
    }
   ],
   "source": [
    "con= confusion_matrix(y_train,y_pred)\n",
    "con"
   ]
  },
  {
   "cell_type": "code",
   "execution_count": 51,
   "id": "3c999a5a",
   "metadata": {},
   "outputs": [
    {
     "data": {
      "text/html": [
       "<div>\n",
       "<style scoped>\n",
       "    .dataframe tbody tr th:only-of-type {\n",
       "        vertical-align: middle;\n",
       "    }\n",
       "\n",
       "    .dataframe tbody tr th {\n",
       "        vertical-align: top;\n",
       "    }\n",
       "\n",
       "    .dataframe thead th {\n",
       "        text-align: right;\n",
       "    }\n",
       "</style>\n",
       "<table border=\"1\" class=\"dataframe\">\n",
       "  <thead>\n",
       "    <tr style=\"text-align: right;\">\n",
       "      <th></th>\n",
       "      <th>pred_dead</th>\n",
       "      <th>pred_survived</th>\n",
       "    </tr>\n",
       "  </thead>\n",
       "  <tbody>\n",
       "    <tr>\n",
       "      <th>actual_dead</th>\n",
       "      <td>TN</td>\n",
       "      <td>FP</td>\n",
       "    </tr>\n",
       "    <tr>\n",
       "      <th>actual_survived</th>\n",
       "      <td>FN</td>\n",
       "      <td>TP</td>\n",
       "    </tr>\n",
       "  </tbody>\n",
       "</table>\n",
       "</div>"
      ],
      "text/plain": [
       "                pred_dead pred_survived\n",
       "actual_dead            TN            FP\n",
       "actual_survived        FN            TP"
      ]
     },
     "execution_count": 51,
     "metadata": {},
     "output_type": "execute_result"
    }
   ],
   "source": [
    "rubric = pd.DataFrame({\"pred_dead\":[\"TN\",\"FN\"],\n",
    "                        \"pred_survived\": [\"FP\",\"TP\"]},\n",
    "                     index=[\"actual_dead\",\"actual_survived\"])\n",
    "rubric"
   ]
  },
  {
   "cell_type": "code",
   "execution_count": 53,
   "id": "bc1942b5",
   "metadata": {},
   "outputs": [
    {
     "data": {
      "text/html": [
       "<div>\n",
       "<style scoped>\n",
       "    .dataframe tbody tr th:only-of-type {\n",
       "        vertical-align: middle;\n",
       "    }\n",
       "\n",
       "    .dataframe tbody tr th {\n",
       "        vertical-align: top;\n",
       "    }\n",
       "\n",
       "    .dataframe thead th {\n",
       "        text-align: right;\n",
       "    }\n",
       "</style>\n",
       "<table border=\"1\" class=\"dataframe\">\n",
       "  <thead>\n",
       "    <tr style=\"text-align: right;\">\n",
       "      <th></th>\n",
       "      <th>pred_dead</th>\n",
       "      <th>pred_survived</th>\n",
       "    </tr>\n",
       "  </thead>\n",
       "  <tbody>\n",
       "    <tr>\n",
       "      <th>actual_dead</th>\n",
       "      <td>TN:293</td>\n",
       "      <td>FP:36</td>\n",
       "    </tr>\n",
       "    <tr>\n",
       "      <th>actual_survived</th>\n",
       "      <td>FN:63</td>\n",
       "      <td>TP:142</td>\n",
       "    </tr>\n",
       "  </tbody>\n",
       "</table>\n",
       "</div>"
      ],
      "text/plain": [
       "                pred_dead pred_survived\n",
       "actual_dead        TN:293         FP:36\n",
       "actual_survived     FN:63        TP:142"
      ]
     },
     "execution_count": 53,
     "metadata": {},
     "output_type": "execute_result"
    }
   ],
   "source": [
    "rubric + ':' + con.astype(str)"
   ]
  },
  {
   "cell_type": "markdown",
   "id": "89d42486",
   "metadata": {},
   "source": [
    "Compute: Accuracy, true positive rate, false positive rate, true negative rate, false negative rate, precision, recall, f1-score, and support."
   ]
  },
  {
   "cell_type": "code",
   "execution_count": 56,
   "id": "b608f1cc",
   "metadata": {},
   "outputs": [],
   "source": [
    "TN = 293\n",
    "FP = 36\n",
    "FN=63\n",
    "TP=142"
   ]
  },
  {
   "cell_type": "code",
   "execution_count": 57,
   "id": "82d8d754",
   "metadata": {},
   "outputs": [
    {
     "data": {
      "text/plain": [
       "0.8146067415730337"
      ]
     },
     "execution_count": 57,
     "metadata": {},
     "output_type": "execute_result"
    }
   ],
   "source": [
    "accuracy = (TP+TN)/(TP+TN+FP+FN)\n",
    "accuracy "
   ]
  },
  {
   "cell_type": "code",
   "execution_count": 58,
   "id": "2ceb1032",
   "metadata": {},
   "outputs": [
    {
     "data": {
      "text/plain": [
       "0.6926829268292682"
      ]
     },
     "execution_count": 58,
     "metadata": {},
     "output_type": "execute_result"
    }
   ],
   "source": [
    "#true positive rate is same as recall\n",
    "true_positive_rate = TP/(TP+FN)\n",
    "true_positive_rate"
   ]
  },
  {
   "cell_type": "code",
   "execution_count": 59,
   "id": "40939476",
   "metadata": {},
   "outputs": [
    {
     "data": {
      "text/plain": [
       "0.1094224924012158"
      ]
     },
     "execution_count": 59,
     "metadata": {},
     "output_type": "execute_result"
    }
   ],
   "source": [
    "false_positive_rate = FP/(FP+TN)\n",
    "false_positive_rate"
   ]
  },
  {
   "cell_type": "code",
   "execution_count": 60,
   "id": "905e5dd8",
   "metadata": {},
   "outputs": [
    {
     "data": {
      "text/plain": [
       "0.3073170731707317"
      ]
     },
     "execution_count": 60,
     "metadata": {},
     "output_type": "execute_result"
    }
   ],
   "source": [
    "true_negative_rate = FN/(FN+TP)\n",
    "true_negative_rate"
   ]
  },
  {
   "cell_type": "code",
   "execution_count": 61,
   "id": "f4d50a42",
   "metadata": {},
   "outputs": [
    {
     "data": {
      "text/plain": [
       "0.797752808988764"
      ]
     },
     "execution_count": 61,
     "metadata": {},
     "output_type": "execute_result"
    }
   ],
   "source": [
    "precision = TP/(TP+FP)\n",
    "precision"
   ]
  },
  {
   "cell_type": "code",
   "execution_count": 62,
   "id": "1a5a427f",
   "metadata": {},
   "outputs": [],
   "source": [
    "#recall is same as true positive rate\n",
    "recall = true_positive_rate"
   ]
  },
  {
   "cell_type": "code",
   "execution_count": 64,
   "id": "59ad4fcd",
   "metadata": {},
   "outputs": [
    {
     "data": {
      "text/plain": [
       "0.7415143603133159"
      ]
     },
     "execution_count": 64,
     "metadata": {},
     "output_type": "execute_result"
    }
   ],
   "source": [
    "f1_score = 2 * (precision*recall) / (precision+recall)\n",
    "f1_score"
   ]
  },
  {
   "cell_type": "code",
   "execution_count": 65,
   "id": "ff067be8",
   "metadata": {},
   "outputs": [
    {
     "data": {
      "text/plain": [
       "205"
      ]
     },
     "execution_count": 65,
     "metadata": {},
     "output_type": "execute_result"
    }
   ],
   "source": [
    "support_positive = TP + FN\n",
    "support_positive"
   ]
  },
  {
   "cell_type": "code",
   "execution_count": 66,
   "id": "a295e17c",
   "metadata": {},
   "outputs": [
    {
     "data": {
      "text/plain": [
       "329"
      ]
     },
     "execution_count": 66,
     "metadata": {},
     "output_type": "execute_result"
    }
   ],
   "source": [
    "support_negative = FP + TN\n",
    "support_negative"
   ]
  },
  {
   "cell_type": "markdown",
   "id": "810b9668",
   "metadata": {},
   "source": [
    "6. Which model performs better on your in-sample data?"
   ]
  },
  {
   "cell_type": "code",
   "execution_count": 56,
   "id": "341f7047",
   "metadata": {},
   "outputs": [
    {
     "data": {
      "text/plain": [
       "(0.7921348314606742, 0.8146067415730337)"
      ]
     },
     "execution_count": 56,
     "metadata": {},
     "output_type": "execute_result"
    }
   ],
   "source": [
    "model1.score(X_train,y_train), model2.score(X_train,y_train)"
   ]
  },
  {
   "cell_type": "code",
   "execution_count": null,
   "id": "2dc053ef",
   "metadata": {},
   "outputs": [],
   "source": [
    "#model2 performs better in the train data"
   ]
  },
  {
   "cell_type": "markdown",
   "id": "d71959d0",
   "metadata": {},
   "source": [
    "7. Which model performs best on your out-of-sample data, the validate set?"
   ]
  },
  {
   "cell_type": "code",
   "execution_count": 57,
   "id": "ca7c85a2",
   "metadata": {},
   "outputs": [
    {
     "data": {
      "text/plain": [
       "(0.7752808988764045, 0.7865168539325843)"
      ]
     },
     "execution_count": 57,
     "metadata": {},
     "output_type": "execute_result"
    }
   ],
   "source": [
    "model1.score(X_validate,y_validate), model2.score(X_validate,y_validate)"
   ]
  },
  {
   "cell_type": "code",
   "execution_count": null,
   "id": "f4ab6f42",
   "metadata": {},
   "outputs": [],
   "source": [
    "#model2 perfroms better in the validate set"
   ]
  },
  {
   "cell_type": "code",
   "execution_count": null,
   "id": "8bf2379b",
   "metadata": {},
   "outputs": [],
   "source": [
    "#since the model1 train data and model1 validate data are little far apart, it means we have overfitted our data"
   ]
  },
  {
   "cell_type": "code",
   "execution_count": null,
   "id": "24df6910",
   "metadata": {},
   "outputs": [],
   "source": [
    "#since the model2 train data and model2 validate data are little far apart, it means we have overfitted our data"
   ]
  },
  {
   "cell_type": "markdown",
   "id": "a5ff8376",
   "metadata": {},
   "source": [
    "telco data"
   ]
  },
  {
   "cell_type": "code",
   "execution_count": 74,
   "id": "f5db40b0",
   "metadata": {},
   "outputs": [
    {
     "data": {
      "text/plain": [
       "((4225, 33), (1409, 33), (1409, 33))"
      ]
     },
     "execution_count": 74,
     "metadata": {},
     "output_type": "execute_result"
    }
   ],
   "source": [
    "#acquire train data \n",
    "df = acquire.get_telco_data()\n",
    "train, validate, test = prepare.prep_get_telco_data(df)\n",
    "train.shape, validate.shape, test.shape"
   ]
  },
  {
   "cell_type": "code",
   "execution_count": 75,
   "id": "750b1d16",
   "metadata": {},
   "outputs": [
    {
     "data": {
      "text/html": [
       "<div>\n",
       "<style scoped>\n",
       "    .dataframe tbody tr th:only-of-type {\n",
       "        vertical-align: middle;\n",
       "    }\n",
       "\n",
       "    .dataframe tbody tr th {\n",
       "        vertical-align: top;\n",
       "    }\n",
       "\n",
       "    .dataframe thead th {\n",
       "        text-align: right;\n",
       "    }\n",
       "</style>\n",
       "<table border=\"1\" class=\"dataframe\">\n",
       "  <thead>\n",
       "    <tr style=\"text-align: right;\">\n",
       "      <th></th>\n",
       "      <th>customer_id</th>\n",
       "      <th>senior_citizen</th>\n",
       "      <th>tenure</th>\n",
       "      <th>monthly_charges</th>\n",
       "      <th>total_charges</th>\n",
       "      <th>churn</th>\n",
       "      <th>gender_male</th>\n",
       "      <th>partner_yes</th>\n",
       "      <th>dependents_yes</th>\n",
       "      <th>phone_service_yes</th>\n",
       "      <th>...</th>\n",
       "      <th>payment_type_electronic_check</th>\n",
       "      <th>payment_type_mailed_check</th>\n",
       "      <th>internet_service_type_fiber_optic</th>\n",
       "      <th>internet_service_type_none</th>\n",
       "      <th>contract_type_one_year</th>\n",
       "      <th>contract_type_two_year</th>\n",
       "      <th>device_protection_no_internet_service</th>\n",
       "      <th>device_protection_yes</th>\n",
       "      <th>streaming_tv_no_internet_service</th>\n",
       "      <th>streaming_tv_yes</th>\n",
       "    </tr>\n",
       "  </thead>\n",
       "  <tbody>\n",
       "    <tr>\n",
       "      <th>5911</th>\n",
       "      <td>8319-QBEHW</td>\n",
       "      <td>0</td>\n",
       "      <td>26</td>\n",
       "      <td>39.95</td>\n",
       "      <td>1023.75</td>\n",
       "      <td>No</td>\n",
       "      <td>1</td>\n",
       "      <td>0</td>\n",
       "      <td>1</td>\n",
       "      <td>0</td>\n",
       "      <td>...</td>\n",
       "      <td>0</td>\n",
       "      <td>0</td>\n",
       "      <td>0</td>\n",
       "      <td>0</td>\n",
       "      <td>1</td>\n",
       "      <td>0</td>\n",
       "      <td>0</td>\n",
       "      <td>0</td>\n",
       "      <td>0</td>\n",
       "      <td>1</td>\n",
       "    </tr>\n",
       "    <tr>\n",
       "      <th>2479</th>\n",
       "      <td>3547-LQRIK</td>\n",
       "      <td>0</td>\n",
       "      <td>47</td>\n",
       "      <td>26.90</td>\n",
       "      <td>1250.85</td>\n",
       "      <td>No</td>\n",
       "      <td>0</td>\n",
       "      <td>1</td>\n",
       "      <td>0</td>\n",
       "      <td>1</td>\n",
       "      <td>...</td>\n",
       "      <td>1</td>\n",
       "      <td>0</td>\n",
       "      <td>0</td>\n",
       "      <td>1</td>\n",
       "      <td>1</td>\n",
       "      <td>0</td>\n",
       "      <td>1</td>\n",
       "      <td>0</td>\n",
       "      <td>1</td>\n",
       "      <td>0</td>\n",
       "    </tr>\n",
       "    <tr>\n",
       "      <th>5889</th>\n",
       "      <td>8280-MQRQN</td>\n",
       "      <td>0</td>\n",
       "      <td>1</td>\n",
       "      <td>50.45</td>\n",
       "      <td>50.45</td>\n",
       "      <td>Yes</td>\n",
       "      <td>0</td>\n",
       "      <td>0</td>\n",
       "      <td>0</td>\n",
       "      <td>1</td>\n",
       "      <td>...</td>\n",
       "      <td>0</td>\n",
       "      <td>1</td>\n",
       "      <td>0</td>\n",
       "      <td>0</td>\n",
       "      <td>0</td>\n",
       "      <td>0</td>\n",
       "      <td>0</td>\n",
       "      <td>1</td>\n",
       "      <td>0</td>\n",
       "      <td>0</td>\n",
       "    </tr>\n",
       "    <tr>\n",
       "      <th>6087</th>\n",
       "      <td>8626-PTQGE</td>\n",
       "      <td>0</td>\n",
       "      <td>69</td>\n",
       "      <td>60.05</td>\n",
       "      <td>4176.70</td>\n",
       "      <td>No</td>\n",
       "      <td>1</td>\n",
       "      <td>0</td>\n",
       "      <td>0</td>\n",
       "      <td>0</td>\n",
       "      <td>...</td>\n",
       "      <td>0</td>\n",
       "      <td>0</td>\n",
       "      <td>0</td>\n",
       "      <td>0</td>\n",
       "      <td>0</td>\n",
       "      <td>1</td>\n",
       "      <td>0</td>\n",
       "      <td>0</td>\n",
       "      <td>0</td>\n",
       "      <td>1</td>\n",
       "    </tr>\n",
       "    <tr>\n",
       "      <th>785</th>\n",
       "      <td>1142-IHLOO</td>\n",
       "      <td>0</td>\n",
       "      <td>51</td>\n",
       "      <td>87.55</td>\n",
       "      <td>4475.90</td>\n",
       "      <td>No</td>\n",
       "      <td>0</td>\n",
       "      <td>0</td>\n",
       "      <td>0</td>\n",
       "      <td>1</td>\n",
       "      <td>...</td>\n",
       "      <td>0</td>\n",
       "      <td>0</td>\n",
       "      <td>1</td>\n",
       "      <td>0</td>\n",
       "      <td>1</td>\n",
       "      <td>0</td>\n",
       "      <td>0</td>\n",
       "      <td>0</td>\n",
       "      <td>0</td>\n",
       "      <td>1</td>\n",
       "    </tr>\n",
       "  </tbody>\n",
       "</table>\n",
       "<p>5 rows × 33 columns</p>\n",
       "</div>"
      ],
      "text/plain": [
       "     customer_id  senior_citizen  tenure  monthly_charges  total_charges  \\\n",
       "5911  8319-QBEHW               0      26            39.95        1023.75   \n",
       "2479  3547-LQRIK               0      47            26.90        1250.85   \n",
       "5889  8280-MQRQN               0       1            50.45          50.45   \n",
       "6087  8626-PTQGE               0      69            60.05        4176.70   \n",
       "785   1142-IHLOO               0      51            87.55        4475.90   \n",
       "\n",
       "     churn  gender_male  partner_yes  dependents_yes  phone_service_yes  ...  \\\n",
       "5911    No            1            0               1                  0  ...   \n",
       "2479    No            0            1               0                  1  ...   \n",
       "5889   Yes            0            0               0                  1  ...   \n",
       "6087    No            1            0               0                  0  ...   \n",
       "785     No            0            0               0                  1  ...   \n",
       "\n",
       "      payment_type_electronic_check  payment_type_mailed_check  \\\n",
       "5911                              0                          0   \n",
       "2479                              1                          0   \n",
       "5889                              0                          1   \n",
       "6087                              0                          0   \n",
       "785                               0                          0   \n",
       "\n",
       "      internet_service_type_fiber_optic  internet_service_type_none  \\\n",
       "5911                                  0                           0   \n",
       "2479                                  0                           1   \n",
       "5889                                  0                           0   \n",
       "6087                                  0                           0   \n",
       "785                                   1                           0   \n",
       "\n",
       "      contract_type_one_year  contract_type_two_year  \\\n",
       "5911                       1                       0   \n",
       "2479                       1                       0   \n",
       "5889                       0                       0   \n",
       "6087                       0                       1   \n",
       "785                        1                       0   \n",
       "\n",
       "      device_protection_no_internet_service  device_protection_yes  \\\n",
       "5911                                      0                      0   \n",
       "2479                                      1                      0   \n",
       "5889                                      0                      1   \n",
       "6087                                      0                      0   \n",
       "785                                       0                      0   \n",
       "\n",
       "      streaming_tv_no_internet_service  streaming_tv_yes  \n",
       "5911                                 0                 1  \n",
       "2479                                 1                 0  \n",
       "5889                                 0                 0  \n",
       "6087                                 0                 1  \n",
       "785                                  0                 1  \n",
       "\n",
       "[5 rows x 33 columns]"
      ]
     },
     "execution_count": 75,
     "metadata": {},
     "output_type": "execute_result"
    }
   ],
   "source": [
    "train.head()"
   ]
  },
  {
   "cell_type": "code",
   "execution_count": 76,
   "id": "858768f2",
   "metadata": {},
   "outputs": [
    {
     "data": {
      "text/plain": [
       "['customer_id',\n",
       " 'senior_citizen',\n",
       " 'tenure',\n",
       " 'monthly_charges',\n",
       " 'total_charges',\n",
       " 'churn',\n",
       " 'gender_male',\n",
       " 'partner_yes',\n",
       " 'dependents_yes',\n",
       " 'phone_service_yes',\n",
       " 'multiple_lines_no_phone_service',\n",
       " 'multiple_lines_yes',\n",
       " 'online_security_no_internet_service',\n",
       " 'online_security_yes',\n",
       " 'online_backup_no_internet_service',\n",
       " 'online_backup_yes',\n",
       " 'tech_support_no_internet_service',\n",
       " 'tech_support_yes',\n",
       " 'streaming_movies_no_internet_service',\n",
       " 'streaming_movies_yes',\n",
       " 'paperless_billing_yes',\n",
       " 'churn_yes',\n",
       " 'payment_type_credit_card_(automatic)',\n",
       " 'payment_type_electronic_check',\n",
       " 'payment_type_mailed_check',\n",
       " 'internet_service_type_fiber_optic',\n",
       " 'internet_service_type_none',\n",
       " 'contract_type_one_year',\n",
       " 'contract_type_two_year',\n",
       " 'device_protection_no_internet_service',\n",
       " 'device_protection_yes',\n",
       " 'streaming_tv_no_internet_service',\n",
       " 'streaming_tv_yes']"
      ]
     },
     "execution_count": 76,
     "metadata": {},
     "output_type": "execute_result"
    }
   ],
   "source": [
    "train.columns.tolist()"
   ]
  },
  {
   "cell_type": "code",
   "execution_count": 79,
   "id": "3ec91937",
   "metadata": {},
   "outputs": [
    {
     "data": {
      "text/plain": [
       "No     0.734675\n",
       "Yes    0.265325\n",
       "Name: churn, dtype: float64"
      ]
     },
     "execution_count": 79,
     "metadata": {},
     "output_type": "execute_result"
    }
   ],
   "source": [
    "train.churn.value_counts(normalize = True)"
   ]
  },
  {
   "cell_type": "code",
   "execution_count": null,
   "id": "a75f65e4",
   "metadata": {},
   "outputs": [],
   "source": [
    "#since No is our model here, Did Not Churn is our baseline\n",
    "#baseline accuracy is 73.46"
   ]
  },
  {
   "cell_type": "code",
   "execution_count": null,
   "id": "7372e785",
   "metadata": {},
   "outputs": [],
   "source": [
    "#drop non numerical or non encoded columns\n",
    "#drops = [\"\"]"
   ]
  },
  {
   "cell_type": "markdown",
   "id": "3901e40a",
   "metadata": {},
   "source": [
    "Random Forest"
   ]
  },
  {
   "cell_type": "markdown",
   "id": "72ac99a7",
   "metadata": {},
   "source": [
    "Continue working in your model file with titanic data to do the following:\n",
    "\n",
    "1. Fit the Random Forest classifier to your training sample and transform (i.e. make predictions on the training sample) setting the random_state accordingly and setting min_samples_leaf = 1 and max_depth = 10."
   ]
  },
  {
   "cell_type": "code",
   "execution_count": 68,
   "id": "64804761",
   "metadata": {},
   "outputs": [
    {
     "data": {
      "text/plain": [
       "((534, 10), (178, 10), (179, 10))"
      ]
     },
     "execution_count": 68,
     "metadata": {},
     "output_type": "execute_result"
    }
   ],
   "source": [
    "#acquire train data \n",
    "df = acquire.get_titanic_data()\n",
    "train, validate, test = prepare.prep_titanic_data(df)\n",
    "train.shape, validate.shape, test.shape"
   ]
  },
  {
   "cell_type": "code",
   "execution_count": 69,
   "id": "cf5a8677",
   "metadata": {},
   "outputs": [
    {
     "name": "stdout",
     "output_type": "stream",
     "text": [
      "<class 'pandas.core.frame.DataFrame'>\n",
      "Int64Index: 534 entries, 455 to 496\n",
      "Data columns (total 10 columns):\n",
      " #   Column                   Non-Null Count  Dtype  \n",
      "---  ------                   --------------  -----  \n",
      " 0   passenger_id             534 non-null    int64  \n",
      " 1   survived                 534 non-null    int64  \n",
      " 2   pclass                   534 non-null    int64  \n",
      " 3   sibsp                    534 non-null    int64  \n",
      " 4   parch                    534 non-null    int64  \n",
      " 5   fare                     534 non-null    float64\n",
      " 6   alone                    534 non-null    int64  \n",
      " 7   sex_male                 534 non-null    uint8  \n",
      " 8   embark_town_Queenstown   534 non-null    uint8  \n",
      " 9   embark_town_Southampton  534 non-null    uint8  \n",
      "dtypes: float64(1), int64(6), uint8(3)\n",
      "memory usage: 34.9 KB\n"
     ]
    }
   ],
   "source": [
    "train.info()"
   ]
  },
  {
   "cell_type": "code",
   "execution_count": 92,
   "id": "ef06bb91",
   "metadata": {},
   "outputs": [
    {
     "data": {
      "text/plain": [
       "[None, None, None]"
      ]
     },
     "execution_count": 92,
     "metadata": {},
     "output_type": "execute_result"
    }
   ],
   "source": [
    "#we can drop passender_id column  as it is just an id\n",
    "#use list comprehension to drop this column over all 3 data set\n",
    "[i.drop(columns = \"passenger_id\" ,inplace = True) for i in [train,validate,test]]\n"
   ]
  },
  {
   "cell_type": "code",
   "execution_count": 94,
   "id": "33bbe8fa",
   "metadata": {
    "scrolled": true
   },
   "outputs": [
    {
     "data": {
      "text/plain": [
       "['survived',\n",
       " 'pclass',\n",
       " 'sibsp',\n",
       " 'parch',\n",
       " 'fare',\n",
       " 'alone',\n",
       " 'sex_male',\n",
       " 'embark_town_Queenstown',\n",
       " 'embark_town_Southampton']"
      ]
     },
     "execution_count": 94,
     "metadata": {},
     "output_type": "execute_result"
    }
   ],
   "source": [
    "train.columns.tolist()"
   ]
  },
  {
   "cell_type": "code",
   "execution_count": 95,
   "id": "db0a7b8f",
   "metadata": {},
   "outputs": [],
   "source": [
    "#define our X and y\n",
    "#X is collection of independent variables\n",
    "#y is the target variable\n",
    "X_train = train.drop(columns = \"survived\")\n",
    "y_train = train.survived\n",
    "X_validate = validate.drop(columns = \"survived\")\n",
    "y_validate = validate.survived"
   ]
  },
  {
   "cell_type": "code",
   "execution_count": 140,
   "id": "60c78654",
   "metadata": {},
   "outputs": [
    {
     "data": {
      "text/plain": [
       "0    329\n",
       "1    205\n",
       "Name: survived, dtype: int64"
      ]
     },
     "execution_count": 140,
     "metadata": {},
     "output_type": "execute_result"
    }
   ],
   "source": [
    "#baseline, the mode of the y_train\n",
    "y_train.value_counts()"
   ]
  },
  {
   "cell_type": "code",
   "execution_count": 141,
   "id": "a5aa492d",
   "metadata": {},
   "outputs": [
    {
     "data": {
      "text/plain": [
       "0    0.616105\n",
       "1    0.383895\n",
       "Name: survived, dtype: float64"
      ]
     },
     "execution_count": 141,
     "metadata": {},
     "output_type": "execute_result"
    }
   ],
   "source": [
    "y_train.value_counts(normalize = True)"
   ]
  },
  {
   "cell_type": "code",
   "execution_count": null,
   "id": "e64e2c8f",
   "metadata": {},
   "outputs": [],
   "source": [
    "#our baseline prediction is 0 and baseline accuracy is 62%"
   ]
  },
  {
   "cell_type": "code",
   "execution_count": 97,
   "id": "de5a8240",
   "metadata": {},
   "outputs": [
    {
     "data": {
      "text/plain": [
       "RandomForestClassifier(max_depth=10)"
      ]
     },
     "execution_count": 97,
     "metadata": {},
     "output_type": "execute_result"
    }
   ],
   "source": [
    "#create the object\n",
    "model1 = RandomForestClassifier(min_samples_leaf=1,max_depth =10)\n",
    "model1"
   ]
  },
  {
   "cell_type": "code",
   "execution_count": 98,
   "id": "808768e3",
   "metadata": {},
   "outputs": [
    {
     "data": {
      "text/plain": [
       "RandomForestClassifier(max_depth=10)"
      ]
     },
     "execution_count": 98,
     "metadata": {},
     "output_type": "execute_result"
    }
   ],
   "source": [
    "#fit the model\n",
    "model1.fit(X_train,y_train)"
   ]
  },
  {
   "cell_type": "code",
   "execution_count": 99,
   "id": "d31abf6b",
   "metadata": {},
   "outputs": [
    {
     "name": "stdout",
     "output_type": "stream",
     "text": [
      "[0.09255907 0.07381722 0.05117139 0.38768609 0.02311783 0.31666615\n",
      " 0.01881642 0.03616582]\n"
     ]
    }
   ],
   "source": [
    "#detour: cool thing about feature importance\n",
    "print(model1.feature_importances_)"
   ]
  },
  {
   "cell_type": "code",
   "execution_count": 108,
   "id": "170e85b5",
   "metadata": {},
   "outputs": [
    {
     "data": {
      "image/png": "[encoded data removed]",
      "text/plain": [
       "<Figure size 1296x432 with 1 Axes>"
      ]
     },
     "metadata": {
      "needs_background": "light"
     },
     "output_type": "display_data"
    }
   ],
   "source": [
    "#make it in bar graph for good visual against the train columns\n",
    "plt.figure(figsize = (18,6))\n",
    "plt.bar(X_train.columns, model1.feature_importances_)\n",
    "plt.xticks(rotation = 45)\n",
    "plt.show()"
   ]
  },
  {
   "cell_type": "code",
   "execution_count": null,
   "id": "2430b1d6",
   "metadata": {},
   "outputs": [],
   "source": [
    "#cool\n",
    "#fare and sex seems to be important factors for survival\n",
    "#Poor Jack"
   ]
  },
  {
   "cell_type": "markdown",
   "id": "594a799c",
   "metadata": {},
   "source": [
    "2. Evaluate your results using the model score, confusion matrix, and classification report."
   ]
  },
  {
   "cell_type": "code",
   "execution_count": 116,
   "id": "f008489c",
   "metadata": {},
   "outputs": [
    {
     "name": "stdout",
     "output_type": "stream",
     "text": [
      "the accuracy of random forest classifier for our train model is 0.94\n"
     ]
    }
   ],
   "source": [
    "#model score for accuracy, use model1.score\n",
    "print(\"the accuracy of random forest classifier for our train model is\" , round(model1.score(X_train,y_train),2))"
   ]
  },
  {
   "cell_type": "code",
   "execution_count": 118,
   "id": "45affd9f",
   "metadata": {},
   "outputs": [],
   "source": [
    "#confusion matrix\n",
    "# we need y_pred to find confusion matrix of y_train and y_pred\n",
    "y_pred = model1.predict(X_train)"
   ]
  },
  {
   "cell_type": "code",
   "execution_count": 120,
   "id": "33269eb7",
   "metadata": {},
   "outputs": [
    {
     "data": {
      "text/plain": [
       "array([[324,   5],\n",
       "       [ 26, 179]])"
      ]
     },
     "execution_count": 120,
     "metadata": {},
     "output_type": "execute_result"
    }
   ],
   "source": [
    "con=confusion_matrix(y_train,y_pred)\n",
    "con"
   ]
  },
  {
   "cell_type": "code",
   "execution_count": 130,
   "id": "0dd49e65",
   "metadata": {},
   "outputs": [
    {
     "data": {
      "text/html": [
       "<div>\n",
       "<style scoped>\n",
       "    .dataframe tbody tr th:only-of-type {\n",
       "        vertical-align: middle;\n",
       "    }\n",
       "\n",
       "    .dataframe tbody tr th {\n",
       "        vertical-align: top;\n",
       "    }\n",
       "\n",
       "    .dataframe thead th {\n",
       "        text-align: right;\n",
       "    }\n",
       "</style>\n",
       "<table border=\"1\" class=\"dataframe\">\n",
       "  <thead>\n",
       "    <tr style=\"text-align: right;\">\n",
       "      <th></th>\n",
       "      <th>Pred_death</th>\n",
       "      <th>Pred_survival</th>\n",
       "    </tr>\n",
       "  </thead>\n",
       "  <tbody>\n",
       "    <tr>\n",
       "      <th>Actual_death</th>\n",
       "      <td>324</td>\n",
       "      <td>5</td>\n",
       "    </tr>\n",
       "    <tr>\n",
       "      <th>Actual_survival</th>\n",
       "      <td>26</td>\n",
       "      <td>179</td>\n",
       "    </tr>\n",
       "  </tbody>\n",
       "</table>\n",
       "</div>"
      ],
      "text/plain": [
       "                 Pred_death  Pred_survival\n",
       "Actual_death            324              5\n",
       "Actual_survival          26            179"
      ]
     },
     "execution_count": 130,
     "metadata": {},
     "output_type": "execute_result"
    }
   ],
   "source": [
    "#change confusion matrix into dataframe\n",
    "index_labels = [\"Actual_death\",\"Actual_survival\"]\n",
    "index_columns = [\"Pred_death\",\"Pred_survival\"]\n",
    "con_df = pd.DataFrame(con, index_labels, index_columns )\n",
    "con_df"
   ]
  },
  {
   "cell_type": "code",
   "execution_count": 138,
   "id": "83a42123",
   "metadata": {},
   "outputs": [
    {
     "data": {
      "image/png": "[encoded data removed]",
      "text/plain": [
       "<Figure size 432x288 with 2 Axes>"
      ]
     },
     "metadata": {
      "needs_background": "light"
     },
     "output_type": "display_data"
    }
   ],
   "source": [
    "#cool confuison matrix\n",
    "disp = ConfusionMatrixDisplay(confusion_matrix=con, display_labels=model1.classes_)\n",
    "\n",
    "disp.plot()\n",
    "plt.show()"
   ]
  },
  {
   "cell_type": "code",
   "execution_count": 126,
   "id": "dcb97dc9",
   "metadata": {},
   "outputs": [
    {
     "data": {
      "text/html": [
       "<div>\n",
       "<style scoped>\n",
       "    .dataframe tbody tr th:only-of-type {\n",
       "        vertical-align: middle;\n",
       "    }\n",
       "\n",
       "    .dataframe tbody tr th {\n",
       "        vertical-align: top;\n",
       "    }\n",
       "\n",
       "    .dataframe thead th {\n",
       "        text-align: right;\n",
       "    }\n",
       "</style>\n",
       "<table border=\"1\" class=\"dataframe\">\n",
       "  <thead>\n",
       "    <tr style=\"text-align: right;\">\n",
       "      <th></th>\n",
       "      <th>0</th>\n",
       "      <th>1</th>\n",
       "      <th>accuracy</th>\n",
       "      <th>macro avg</th>\n",
       "      <th>weighted avg</th>\n",
       "    </tr>\n",
       "  </thead>\n",
       "  <tbody>\n",
       "    <tr>\n",
       "      <th>precision</th>\n",
       "      <td>0.925714</td>\n",
       "      <td>0.972826</td>\n",
       "      <td>0.941948</td>\n",
       "      <td>0.949270</td>\n",
       "      <td>0.943800</td>\n",
       "    </tr>\n",
       "    <tr>\n",
       "      <th>recall</th>\n",
       "      <td>0.984802</td>\n",
       "      <td>0.873171</td>\n",
       "      <td>0.941948</td>\n",
       "      <td>0.928987</td>\n",
       "      <td>0.941948</td>\n",
       "    </tr>\n",
       "    <tr>\n",
       "      <th>f1-score</th>\n",
       "      <td>0.954345</td>\n",
       "      <td>0.920308</td>\n",
       "      <td>0.941948</td>\n",
       "      <td>0.937327</td>\n",
       "      <td>0.941278</td>\n",
       "    </tr>\n",
       "    <tr>\n",
       "      <th>support</th>\n",
       "      <td>329.000000</td>\n",
       "      <td>205.000000</td>\n",
       "      <td>0.941948</td>\n",
       "      <td>534.000000</td>\n",
       "      <td>534.000000</td>\n",
       "    </tr>\n",
       "  </tbody>\n",
       "</table>\n",
       "</div>"
      ],
      "text/plain": [
       "                    0           1  accuracy   macro avg  weighted avg\n",
       "precision    0.925714    0.972826  0.941948    0.949270      0.943800\n",
       "recall       0.984802    0.873171  0.941948    0.928987      0.941948\n",
       "f1-score     0.954345    0.920308  0.941948    0.937327      0.941278\n",
       "support    329.000000  205.000000  0.941948  534.000000    534.000000"
      ]
     },
     "execution_count": 126,
     "metadata": {},
     "output_type": "execute_result"
    }
   ],
   "source": [
    "#classification report\n",
    "pd.DataFrame(classification_report(y_train,y_pred, output_dict = True))"
   ]
  },
  {
   "cell_type": "markdown",
   "id": "49dc55a5",
   "metadata": {},
   "source": [
    "3. Print and clearly label the following: Accuracy, true positive rate, false positive rate, true negative rate, false negative rate, precision, recall, f1-score, and support."
   ]
  },
  {
   "cell_type": "code",
   "execution_count": 132,
   "id": "695ba0ff",
   "metadata": {},
   "outputs": [
    {
     "data": {
      "text/plain": [
       "(324, 179, 26, 179)"
      ]
     },
     "execution_count": 132,
     "metadata": {},
     "output_type": "execute_result"
    }
   ],
   "source": [
    "#from confusion matrix:\n",
    "TN = con_df.iat[0,0]\n",
    "FP= con_df.iat[0,1]\n",
    "FN = con_df.iat[1,0]\n",
    "TP = con_df.iat[1,1]\n",
    "TN,TP,FN,TP"
   ]
  },
  {
   "cell_type": "code",
   "execution_count": 145,
   "id": "311b369e",
   "metadata": {},
   "outputs": [
    {
     "name": "stdout",
     "output_type": "stream",
     "text": [
      "accuracy 0.9419475655430711\n",
      "true_positive_rate 0.8731707317073171\n",
      "false_positive_rate 0.015197568389057751\n",
      "true_negative_rate 0.12682926829268293\n",
      "precision 0.9728260869565217\n",
      "f1_score 0.9203084832904883\n",
      "support_positive 205\n",
      "support_negative 329\n"
     ]
    }
   ],
   "source": [
    "accuracy = (TP+TN)/(TP+TN+FP+FN)\n",
    "print(\"accuracy\", accuracy)\n",
    "true_positive_rate = TP/(TP+FN)\n",
    "print(\"true_positive_rate\", true_positive_rate)\n",
    "false_positive_rate = FP/(FP+TN)\n",
    "print(\"false_positive_rate\", false_positive_rate)\n",
    "true_negative_rate = FN/(FN+TP)\n",
    "print(\"true_negative_rate\", true_negative_rate)\n",
    "precision = TP/(TP+FP)\n",
    "print(\"precision\", precision)\n",
    "recall = true_positive_rate\n",
    "f1_score = 2 * (precision*recall) / (precision+recall)\n",
    "print(\"f1_score\", f1_score)\n",
    "support_positive = TP + FN\n",
    "print(\"support_positive\", support_positive)\n",
    "support_negative = FP + TN\n",
    "print(\"support_negative\", support_negative)\n"
   ]
  },
  {
   "cell_type": "markdown",
   "id": "5d2a3b38",
   "metadata": {},
   "source": [
    "4. Run through steps increasing your min_samples_leaf and decreasing your max_depth."
   ]
  },
  {
   "cell_type": "code",
   "execution_count": null,
   "id": "5bb3a241",
   "metadata": {},
   "outputs": [],
   "source": []
  }
 ],
 "metadata": {
  "kernelspec": {
   "display_name": "Python 3 (ipykernel)",
   "language": "python",
   "name": "python3"
  },
  "language_info": {
   "codemirror_mode": {
    "name": "ipython",
    "version": 3
   },
   "file_extension": ".py",
   "mimetype": "text/x-python",
   "name": "python",
   "nbconvert_exporter": "python",
   "pygments_lexer": "ipython3",
   "version": "3.9.12"
  }
 },
 "nbformat": 4,
 "nbformat_minor": 5
}
