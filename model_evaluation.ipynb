{
 "cells": [
  {
   "cell_type": "code",
   "execution_count": 85,
   "id": "9a80a363",
   "metadata": {},
   "outputs": [],
   "source": [
    "import pandas as pd\n",
    "from sklearn.metrics import precision_score\n",
    "from sklearn.metrics import accuracy_score\n",
    "from sklearn.metrics import recall_score\n",
    "from sklearn.metrics import classification_report"
   ]
  },
  {
   "cell_type": "markdown",
   "id": "1d09e3a9",
   "metadata": {},
   "source": [
    "1. Create a new file named model_evaluation.py or model_evaluation.ipynb for these exercises."
   ]
  },
  {
   "cell_type": "markdown",
   "id": "b86e6167",
   "metadata": {},
   "source": [
    "2.Given the following confusion matrix, evaluate (by hand) the model's performance.\n",
    "\n",
    "\n",
    "|               | pred dog   | pred cat   |\n",
    "|:------------  |-----------:|-----------:|\n",
    "| actual dog    |         46 |         7  |\n",
    "| actual cat    |         13 |         34 |\n"
   ]
  },
  {
   "cell_type": "markdown",
   "id": "ddde236b",
   "metadata": {},
   "source": [
    "In the context of this problem, what is a false positive?"
   ]
  },
  {
   "cell_type": "code",
   "execution_count": 21,
   "id": "4c892497",
   "metadata": {},
   "outputs": [],
   "source": [
    "#positive case = dog\n",
    "#negative case = cat\n",
    "\n",
    "#if dog is our positive case, false positive is when your predict a dog but it was actually a cat\n",
    "#which is 13 on this case"
   ]
  },
  {
   "cell_type": "markdown",
   "id": "0b73abca",
   "metadata": {},
   "source": [
    "In the context of this problem, what is a false negative"
   ]
  },
  {
   "cell_type": "code",
   "execution_count": 22,
   "id": "4f5455c8",
   "metadata": {},
   "outputs": [],
   "source": [
    "#if dog is our positive case, false negative is prediction a cat but it was a dog actually which is 7"
   ]
  },
  {
   "cell_type": "code",
   "execution_count": 23,
   "id": "98b90d78",
   "metadata": {},
   "outputs": [],
   "source": [
    "tp=46\n",
    "tn=34\n",
    "fp=13\n",
    "fn=7"
   ]
  },
  {
   "cell_type": "markdown",
   "id": "63c43a0a",
   "metadata": {},
   "source": [
    "How would you describe this model?"
   ]
  },
  {
   "cell_type": "code",
   "execution_count": 24,
   "id": "c32c8363",
   "metadata": {},
   "outputs": [
    {
     "name": "stdout",
     "output_type": "stream",
     "text": [
      "positive case = dog\n",
      "precision 0.78\n",
      "accuracy 0.58\n",
      "recall 0.87\n"
     ]
    }
   ],
   "source": [
    "precision = tp/(tp+fp)\n",
    "accuracy = (tp+tn)/(tp+tn+tp+fp)\n",
    "recall = tp/(tp+fn)\n",
    "print(\"positive case = dog\")\n",
    "print('precision', round(precision,2))\n",
    "print('accuracy', round(accuracy,2))\n",
    "print('recall', round(recall,2))"
   ]
  },
  {
   "cell_type": "markdown",
   "id": "4a2ae7ed",
   "metadata": {},
   "source": [
    "3.You are working as a datascientist working for Codeup Cody Creator (C3 for short), a rubber-duck manufacturing plant.\n",
    "\n",
    "Unfortunately, some of the rubber ducks that are produced will have defects. Your team has built several models that try to predict those defects, and the data from their predictions can be found here.\n",
    "\n",
    "Use the predictions dataset and pandas to help answer the following questions:\n",
    "\n",
    "An internal team wants to investigate the cause of the manufacturing defects. They tell you that they want to identify as many of the ducks that have a defect as possible. Which evaluation metric would be appropriate here? Which model would be the best fit for this use case?"
   ]
  },
  {
   "cell_type": "code",
   "execution_count": null,
   "id": "0849e5b4",
   "metadata": {},
   "outputs": [],
   "source": [
    "#postive case = defective duck"
   ]
  },
  {
   "cell_type": "code",
   "execution_count": 89,
   "id": "ce1f9707",
   "metadata": {},
   "outputs": [
    {
     "data": {
      "text/html": [
       "<div>\n",
       "<style scoped>\n",
       "    .dataframe tbody tr th:only-of-type {\n",
       "        vertical-align: middle;\n",
       "    }\n",
       "\n",
       "    .dataframe tbody tr th {\n",
       "        vertical-align: top;\n",
       "    }\n",
       "\n",
       "    .dataframe thead th {\n",
       "        text-align: right;\n",
       "    }\n",
       "</style>\n",
       "<table border=\"1\" class=\"dataframe\">\n",
       "  <thead>\n",
       "    <tr style=\"text-align: right;\">\n",
       "      <th></th>\n",
       "      <th>actual</th>\n",
       "      <th>model1</th>\n",
       "      <th>model2</th>\n",
       "      <th>model3</th>\n",
       "    </tr>\n",
       "  </thead>\n",
       "  <tbody>\n",
       "    <tr>\n",
       "      <th>0</th>\n",
       "      <td>No Defect</td>\n",
       "      <td>No Defect</td>\n",
       "      <td>Defect</td>\n",
       "      <td>No Defect</td>\n",
       "    </tr>\n",
       "    <tr>\n",
       "      <th>1</th>\n",
       "      <td>No Defect</td>\n",
       "      <td>No Defect</td>\n",
       "      <td>Defect</td>\n",
       "      <td>Defect</td>\n",
       "    </tr>\n",
       "    <tr>\n",
       "      <th>2</th>\n",
       "      <td>No Defect</td>\n",
       "      <td>No Defect</td>\n",
       "      <td>Defect</td>\n",
       "      <td>No Defect</td>\n",
       "    </tr>\n",
       "    <tr>\n",
       "      <th>3</th>\n",
       "      <td>No Defect</td>\n",
       "      <td>Defect</td>\n",
       "      <td>Defect</td>\n",
       "      <td>Defect</td>\n",
       "    </tr>\n",
       "    <tr>\n",
       "      <th>4</th>\n",
       "      <td>No Defect</td>\n",
       "      <td>No Defect</td>\n",
       "      <td>Defect</td>\n",
       "      <td>No Defect</td>\n",
       "    </tr>\n",
       "  </tbody>\n",
       "</table>\n",
       "</div>"
      ],
      "text/plain": [
       "      actual     model1  model2     model3\n",
       "0  No Defect  No Defect  Defect  No Defect\n",
       "1  No Defect  No Defect  Defect     Defect\n",
       "2  No Defect  No Defect  Defect  No Defect\n",
       "3  No Defect     Defect  Defect     Defect\n",
       "4  No Defect  No Defect  Defect  No Defect"
      ]
     },
     "execution_count": 89,
     "metadata": {},
     "output_type": "execute_result"
    }
   ],
   "source": [
    "#load csv\n",
    "df = pd.read_csv(\"c3.csv\")\n",
    "df.head()"
   ]
  },
  {
   "cell_type": "code",
   "execution_count": 90,
   "id": "876fedff",
   "metadata": {},
   "outputs": [],
   "source": [
    "# not only true postives(defective ducks), we need to track down ducks we think are good but are infact defective,\n",
    "#which is false negative. so we use recall here. \n"
   ]
  },
  {
   "cell_type": "code",
   "execution_count": 99,
   "id": "ec3870a7",
   "metadata": {},
   "outputs": [
    {
     "name": "stdout",
     "output_type": "stream",
     "text": [
      "model1\n",
      "              precision    recall  f1-score   support\n",
      "\n",
      "      Defect       0.80      0.50      0.62        16\n",
      "   No Defect       0.96      0.99      0.97       184\n",
      "\n",
      "    accuracy                           0.95       200\n",
      "   macro avg       0.88      0.74      0.79       200\n",
      "weighted avg       0.95      0.95      0.94       200\n",
      "\n",
      "\n",
      "model2\n",
      "              precision    recall  f1-score   support\n",
      "\n",
      "      Defect       0.10      0.56      0.17        16\n",
      "   No Defect       0.94      0.56      0.70       184\n",
      "\n",
      "    accuracy                           0.56       200\n",
      "   macro avg       0.52      0.56      0.44       200\n",
      "weighted avg       0.87      0.56      0.66       200\n",
      "\n",
      "\n",
      "model3\n",
      "              precision    recall  f1-score   support\n",
      "\n",
      "      Defect       0.13      0.81      0.23        16\n",
      "   No Defect       0.97      0.53      0.69       184\n",
      "\n",
      "    accuracy                           0.56       200\n",
      "   macro avg       0.55      0.67      0.46       200\n",
      "weighted avg       0.90      0.56      0.65       200\n",
      "\n"
     ]
    }
   ],
   "source": [
    "#we can use classification report on all there models\n",
    "print('model1')\n",
    "print(pd.DataFrame(met.classification_report(df.actual, df.model1, output_dict=True)))\n",
    "print()\n",
    "print('model2')\n",
    "print(pd.DataFrame(met.classification_report(df.actual, df.model2, output_dict=True)))\n",
    "print()\n",
    "print('model3')\n",
    "print(pd.DataFrame(met.classification_report(df.actual, df.model3, output_dict=True)))"
   ]
  },
  {
   "cell_type": "code",
   "execution_count": null,
   "id": "6ce7fd7e",
   "metadata": {},
   "outputs": [],
   "source": [
    "#since recall for model 3 is the highest,81.25% , we will use model 3"
   ]
  },
  {
   "cell_type": "markdown",
   "id": "50b7326a",
   "metadata": {},
   "source": [
    "Recently several stories in the local news have come out highlighting customers who received a rubber duck with a defect, and portraying C3 in a bad light. The PR team has decided to launch a program that gives customers with a defective duck a vacation to Hawaii. They need you to predict which ducks will have defects, but tell you the really don't want to accidentally give out a vacation package when the duck really doesn't have a defect. Which evaluation metric would be appropriate here? Which model would be the best fit for this use case?"
   ]
  },
  {
   "cell_type": "code",
   "execution_count": 36,
   "id": "9c489e58",
   "metadata": {},
   "outputs": [],
   "source": [
    "#here, postive case is defective ducks.\n",
    "#pr team also wants to catch false postive, ie. giving out good ducks assuming it is defective\n",
    "#so we use precision "
   ]
  },
  {
   "cell_type": "code",
   "execution_count": null,
   "id": "3246ab55",
   "metadata": {},
   "outputs": [],
   "source": [
    "as in the table, model1 has highest precision, 80% so we choose it"
   ]
  },
  {
   "cell_type": "markdown",
   "id": "dc270fd3",
   "metadata": {},
   "source": [
    "4. You are working as a data scientist for Gives You Paws ™, a subscription based service that shows you cute pictures of dogs or cats (or both for an additional fee).\n",
    "\n",
    "At Gives You Paws, anyone can upload pictures of their cats or dogs. The photos are then put through a two step process. First an automated algorithm tags pictures as either a cat or a dog (Phase I). Next, the photos that have been initially identified are put through another round of review, possibly with some human oversight, before being presented to the users (Phase II).\n",
    "\n",
    "Several models have already been developed with the data, and you can find their results here.\n",
    "\n",
    "Given this dataset, use pandas to create a baseline model (i.e. a model that just predicts the most common class) and answer the following questions:"
   ]
  },
  {
   "cell_type": "code",
   "execution_count": 43,
   "id": "9c24fdc7",
   "metadata": {
    "scrolled": true
   },
   "outputs": [
    {
     "data": {
      "text/html": [
       "<div>\n",
       "<style scoped>\n",
       "    .dataframe tbody tr th:only-of-type {\n",
       "        vertical-align: middle;\n",
       "    }\n",
       "\n",
       "    .dataframe tbody tr th {\n",
       "        vertical-align: top;\n",
       "    }\n",
       "\n",
       "    .dataframe thead th {\n",
       "        text-align: right;\n",
       "    }\n",
       "</style>\n",
       "<table border=\"1\" class=\"dataframe\">\n",
       "  <thead>\n",
       "    <tr style=\"text-align: right;\">\n",
       "      <th></th>\n",
       "      <th>actual</th>\n",
       "      <th>model1</th>\n",
       "      <th>model2</th>\n",
       "      <th>model3</th>\n",
       "      <th>model4</th>\n",
       "    </tr>\n",
       "  </thead>\n",
       "  <tbody>\n",
       "    <tr>\n",
       "      <th>0</th>\n",
       "      <td>cat</td>\n",
       "      <td>cat</td>\n",
       "      <td>dog</td>\n",
       "      <td>cat</td>\n",
       "      <td>dog</td>\n",
       "    </tr>\n",
       "    <tr>\n",
       "      <th>1</th>\n",
       "      <td>dog</td>\n",
       "      <td>dog</td>\n",
       "      <td>cat</td>\n",
       "      <td>cat</td>\n",
       "      <td>dog</td>\n",
       "    </tr>\n",
       "    <tr>\n",
       "      <th>2</th>\n",
       "      <td>dog</td>\n",
       "      <td>cat</td>\n",
       "      <td>cat</td>\n",
       "      <td>cat</td>\n",
       "      <td>dog</td>\n",
       "    </tr>\n",
       "    <tr>\n",
       "      <th>3</th>\n",
       "      <td>dog</td>\n",
       "      <td>dog</td>\n",
       "      <td>dog</td>\n",
       "      <td>cat</td>\n",
       "      <td>dog</td>\n",
       "    </tr>\n",
       "    <tr>\n",
       "      <th>4</th>\n",
       "      <td>cat</td>\n",
       "      <td>cat</td>\n",
       "      <td>cat</td>\n",
       "      <td>dog</td>\n",
       "      <td>dog</td>\n",
       "    </tr>\n",
       "  </tbody>\n",
       "</table>\n",
       "</div>"
      ],
      "text/plain": [
       "  actual model1 model2 model3 model4\n",
       "0    cat    cat    dog    cat    dog\n",
       "1    dog    dog    cat    cat    dog\n",
       "2    dog    cat    cat    cat    dog\n",
       "3    dog    dog    dog    cat    dog\n",
       "4    cat    cat    cat    dog    dog"
      ]
     },
     "execution_count": 43,
     "metadata": {},
     "output_type": "execute_result"
    }
   ],
   "source": [
    "df_paws = pd.read_csv('gives_you_paws.csv')\n",
    "df_paws.head()"
   ]
  },
  {
   "cell_type": "code",
   "execution_count": 44,
   "id": "b53a75df",
   "metadata": {},
   "outputs": [
    {
     "data": {
      "text/plain": [
       "dog    3254\n",
       "cat    1746\n",
       "Name: actual, dtype: int64"
      ]
     },
     "execution_count": 44,
     "metadata": {},
     "output_type": "execute_result"
    }
   ],
   "source": [
    "#to find baseline, do value counts of actual as baseline is the mode\n",
    "df_paws.actual.value_counts()"
   ]
  },
  {
   "cell_type": "code",
   "execution_count": 45,
   "id": "09484181",
   "metadata": {},
   "outputs": [
    {
     "data": {
      "text/html": [
       "<div>\n",
       "<style scoped>\n",
       "    .dataframe tbody tr th:only-of-type {\n",
       "        vertical-align: middle;\n",
       "    }\n",
       "\n",
       "    .dataframe tbody tr th {\n",
       "        vertical-align: top;\n",
       "    }\n",
       "\n",
       "    .dataframe thead th {\n",
       "        text-align: right;\n",
       "    }\n",
       "</style>\n",
       "<table border=\"1\" class=\"dataframe\">\n",
       "  <thead>\n",
       "    <tr style=\"text-align: right;\">\n",
       "      <th></th>\n",
       "      <th>actual</th>\n",
       "      <th>model1</th>\n",
       "      <th>model2</th>\n",
       "      <th>model3</th>\n",
       "      <th>model4</th>\n",
       "      <th>baseline</th>\n",
       "    </tr>\n",
       "  </thead>\n",
       "  <tbody>\n",
       "    <tr>\n",
       "      <th>0</th>\n",
       "      <td>cat</td>\n",
       "      <td>cat</td>\n",
       "      <td>dog</td>\n",
       "      <td>cat</td>\n",
       "      <td>dog</td>\n",
       "      <td>dog</td>\n",
       "    </tr>\n",
       "    <tr>\n",
       "      <th>1</th>\n",
       "      <td>dog</td>\n",
       "      <td>dog</td>\n",
       "      <td>cat</td>\n",
       "      <td>cat</td>\n",
       "      <td>dog</td>\n",
       "      <td>dog</td>\n",
       "    </tr>\n",
       "    <tr>\n",
       "      <th>2</th>\n",
       "      <td>dog</td>\n",
       "      <td>cat</td>\n",
       "      <td>cat</td>\n",
       "      <td>cat</td>\n",
       "      <td>dog</td>\n",
       "      <td>dog</td>\n",
       "    </tr>\n",
       "    <tr>\n",
       "      <th>3</th>\n",
       "      <td>dog</td>\n",
       "      <td>dog</td>\n",
       "      <td>dog</td>\n",
       "      <td>cat</td>\n",
       "      <td>dog</td>\n",
       "      <td>dog</td>\n",
       "    </tr>\n",
       "    <tr>\n",
       "      <th>4</th>\n",
       "      <td>cat</td>\n",
       "      <td>cat</td>\n",
       "      <td>cat</td>\n",
       "      <td>dog</td>\n",
       "      <td>dog</td>\n",
       "      <td>dog</td>\n",
       "    </tr>\n",
       "  </tbody>\n",
       "</table>\n",
       "</div>"
      ],
      "text/plain": [
       "  actual model1 model2 model3 model4 baseline\n",
       "0    cat    cat    dog    cat    dog      dog\n",
       "1    dog    dog    cat    cat    dog      dog\n",
       "2    dog    cat    cat    cat    dog      dog\n",
       "3    dog    dog    dog    cat    dog      dog\n",
       "4    cat    cat    cat    dog    dog      dog"
      ]
     },
     "execution_count": 45,
     "metadata": {},
     "output_type": "execute_result"
    }
   ],
   "source": [
    "#so baseline is dog,make a column for it\n",
    "df_paws[\"baseline\"] = \"dog\"\n",
    "df_paws.head()"
   ]
  },
  {
   "cell_type": "markdown",
   "id": "b8af7979",
   "metadata": {},
   "source": [
    "a. In terms of accuracy, how do the various models compare to the baseline model? Are any of the models better than the baseline?"
   ]
  },
  {
   "cell_type": "code",
   "execution_count": 46,
   "id": "e0bd583b",
   "metadata": {},
   "outputs": [
    {
     "data": {
      "text/plain": [
       "(0.8074, 0.6304, 0.5096, 0.7426, 0.6508)"
      ]
     },
     "execution_count": 46,
     "metadata": {},
     "output_type": "execute_result"
    }
   ],
   "source": [
    "#we can use classification report but lets practice another way\n",
    "#accuracy is looking at predicting true postive and true negative correction \n",
    "#between actual and model,so\n",
    "model1_accuracy = (df_paws.actual == df_paws.model1).mean()\n",
    "model2_accuracy = (df_paws.actual == df_paws.model2).mean()\n",
    "model3_accuracy = (df_paws.actual == df_paws.model3).mean()\n",
    "model3_accuracy = (df_paws.actual == df_paws.model3).mean()\n",
    "model4_accuracy = (df_paws.actual == df_paws.model4).mean()\n",
    "baseline_accuracy = (df_paws.actual == df_paws.baseline).mean()\n",
    "model1_accuracy, model2_accuracy, model3_accuracy,model4_accuracy, baseline_accuracy"
   ]
  },
  {
   "cell_type": "markdown",
   "id": "fc38852b",
   "metadata": {},
   "source": [
    "as baseline accuray is 0.6508, only model 1 and model 4 has accuracy over\n",
    "that value so model1, model 4 are better than baseline for accuracy"
   ]
  },
  {
   "cell_type": "markdown",
   "id": "004207cd",
   "metadata": {},
   "source": [
    "b. Suppose you are working on a team that solely deals with dog pictures. Which of these models would you recomend for Phase I? For Phase II?"
   ]
  },
  {
   "cell_type": "code",
   "execution_count": 48,
   "id": "43a8fb4b",
   "metadata": {},
   "outputs": [],
   "source": [
    "# positive case = dog\n",
    "#we need to minimize case where we say it is dog but actually is a cat\n",
    "#ie. false postive. so we need to maximize precision\n",
    "#make subset of dog in all model to comapre with actual\n",
    "model1_subset = df_paws[df_paws.model1 == 'dog'] \n",
    "model2_subset = df_paws[df_paws.model2 == 'dog'] \n",
    "model3_subset = df_paws[df_paws.model3 == 'dog'] \n",
    "model4_subset = df_paws[df_paws.model4 == 'dog'] \n",
    "baseline_subset = df_paws[df_paws.baseline == \"dog\"]"
   ]
  },
  {
   "cell_type": "code",
   "execution_count": 51,
   "id": "ca86241f",
   "metadata": {},
   "outputs": [
    {
     "data": {
      "text/plain": [
       "(0.89, 0.8932, 0.6599, 0.7312, 0.6508)"
      ]
     },
     "execution_count": 51,
     "metadata": {},
     "output_type": "execute_result"
    }
   ],
   "source": [
    "#get precision\n",
    "model1_precision = (model1_subset.actual == model1_subset.model1).mean()\n",
    "model2_precision = (model2_subset.actual == model2_subset.model2).mean()\n",
    "model3_precision = (model3_subset.actual == model3_subset.model3).mean()\n",
    "model4_precision = (model4_subset.actual == model4_subset.model4).mean()\n",
    "baseline_precision = (baseline_subset.actual == baseline_subset.baseline).mean()\n",
    "round(model1_precision,4), round(model2_precision,4),round(model3_precision,4), round(model4_precision,4), round(baseline_precision,4)"
   ]
  },
  {
   "cell_type": "code",
   "execution_count": null,
   "id": "8b5affde",
   "metadata": {},
   "outputs": [],
   "source": [
    "# we use precision to minimize false positive\n",
    "# we can recommend model 1 and model 2 being alot higher than baseline"
   ]
  },
  {
   "cell_type": "markdown",
   "id": "31bd2d07",
   "metadata": {},
   "source": [
    "c. Suppose you are working on a team that solely deals with cat pictures. Which of these models would you recomend for Phase I? For Phase II?"
   ]
  },
  {
   "cell_type": "code",
   "execution_count": 52,
   "id": "5d361499",
   "metadata": {},
   "outputs": [],
   "source": [
    "# positive class = cat\n",
    "#negative class = dog\n",
    "#we need to minimize case where we say it is cat but actually is a dog\n",
    "#ie. false postive. so we need to maximize precision\n",
    "#make subset of cat in all model to comapre with actual\n",
    "model1_subset = df_paws[df_paws.model1 == 'cat'] \n",
    "model2_subset = df_paws[df_paws.model2 == 'cat'] \n",
    "model3_subset = df_paws[df_paws.model3 == 'cat'] \n",
    "model4_subset = df_paws[df_paws.model4 == 'cat'] \n",
    "baseline_subset = df_paws[df_paws.baseline == \"cat\"]"
   ]
  },
  {
   "cell_type": "code",
   "execution_count": 53,
   "id": "15d7f40b",
   "metadata": {},
   "outputs": [
    {
     "data": {
      "text/plain": [
       "(0.6898, 0.4841, 0.3583, 0.8072, nan)"
      ]
     },
     "execution_count": 53,
     "metadata": {},
     "output_type": "execute_result"
    }
   ],
   "source": [
    "#get precision\n",
    "model1_precision = (model1_subset.actual == model1_subset.model1).mean()\n",
    "model2_precision = (model2_subset.actual == model2_subset.model2).mean()\n",
    "model3_precision = (model3_subset.actual == model3_subset.model3).mean()\n",
    "model4_precision = (model4_subset.actual == model4_subset.model4).mean()\n",
    "baseline_precision = (baseline_subset.actual == baseline_subset.baseline).mean()\n",
    "round(model1_precision,4), round(model2_precision,4),round(model3_precision,4), round(model4_precision,4), round(baseline_precision,4)"
   ]
  },
  {
   "cell_type": "code",
   "execution_count": null,
   "id": "c29c8705",
   "metadata": {},
   "outputs": [],
   "source": [
    "# we use precision to minimize false positive\n",
    "#we chose model 4 being the largest value of all other model"
   ]
  },
  {
   "cell_type": "markdown",
   "id": "7441da54",
   "metadata": {},
   "source": [
    "5. Follow the links below to read the documentation about each function, then apply those functions to the data from the previous problem.\n",
    "\n",
    "sklearn.metrics.accuracy_score\n",
    "\n",
    "sklearn.metrics.precision_score\n",
    "\n",
    "sklearn.metrics.recall_score\n",
    "\n",
    "sklearn.metrics.classification_report\n",
    "\n"
   ]
  },
  {
   "cell_type": "markdown",
   "id": "0608bee2",
   "metadata": {},
   "source": [
    "Use accuracy_score"
   ]
  },
  {
   "cell_type": "code",
   "execution_count": 55,
   "id": "ad7b698b",
   "metadata": {},
   "outputs": [
    {
     "data": {
      "text/plain": [
       "0.8074"
      ]
     },
     "execution_count": 55,
     "metadata": {},
     "output_type": "execute_result"
    }
   ],
   "source": [
    "# Model 1 Accuracy Score\n",
    "y_true = df_paws.actual\n",
    "y_pred = df_paws.model1\n",
    "accuracy_score(y_true, y_pred)"
   ]
  },
  {
   "cell_type": "code",
   "execution_count": 57,
   "id": "cef70821",
   "metadata": {},
   "outputs": [
    {
     "data": {
      "text/plain": [
       "0.6304"
      ]
     },
     "execution_count": 57,
     "metadata": {},
     "output_type": "execute_result"
    }
   ],
   "source": [
    "# Model 2 Accuracy Score\n",
    "y_true = df_paws.actual\n",
    "y_pred = df_paws.model2\n",
    "accuracy_score(y_true, y_pred)"
   ]
  },
  {
   "cell_type": "code",
   "execution_count": 58,
   "id": "f12c65d1",
   "metadata": {},
   "outputs": [
    {
     "data": {
      "text/plain": [
       "0.5096"
      ]
     },
     "execution_count": 58,
     "metadata": {},
     "output_type": "execute_result"
    }
   ],
   "source": [
    "# Model 3 Accuracy Score\n",
    "y_true = df_paws.actual\n",
    "y_pred = df_paws.model3\n",
    "accuracy_score(y_true, y_pred)"
   ]
  },
  {
   "cell_type": "code",
   "execution_count": 59,
   "id": "458e9d83",
   "metadata": {},
   "outputs": [
    {
     "data": {
      "text/plain": [
       "0.7426"
      ]
     },
     "execution_count": 59,
     "metadata": {},
     "output_type": "execute_result"
    }
   ],
   "source": [
    "# Model 4 Accuracy Score\n",
    "y_true = df_paws.actual\n",
    "y_pred = df_paws.model4\n",
    "accuracy_score(y_true, y_pred)"
   ]
  },
  {
   "cell_type": "markdown",
   "id": "1f0671fa",
   "metadata": {},
   "source": [
    "Use Precision_Score"
   ]
  },
  {
   "cell_type": "code",
   "execution_count": 60,
   "id": "ce33449a",
   "metadata": {},
   "outputs": [],
   "source": [
    "#create subset for precision for all model\n",
    "#dog is postive case\n",
    "model1_subset = df_paws[df_paws.model1 == 'dog'] \n",
    "model2_subset = df_paws[df_paws.model2 == 'dog'] \n",
    "model3_subset = df_paws[df_paws.model3 == 'dog'] \n",
    "model4_subset = df_paws[df_paws.model4 == 'dog'] "
   ]
  },
  {
   "cell_type": "code",
   "execution_count": 63,
   "id": "39f1df2f",
   "metadata": {},
   "outputs": [
    {
     "data": {
      "text/plain": [
       "0.89"
      ]
     },
     "execution_count": 63,
     "metadata": {},
     "output_type": "execute_result"
    }
   ],
   "source": [
    "# Model 1 Precision Score\n",
    "y_true = model1_subset.actual\n",
    "y_pred = model1_subset.model1\n",
    "round(recall_score(y_true, y_pred, average='micro'),4)\n"
   ]
  },
  {
   "cell_type": "code",
   "execution_count": 66,
   "id": "b1474934",
   "metadata": {},
   "outputs": [
    {
     "data": {
      "text/plain": [
       "0.8932"
      ]
     },
     "execution_count": 66,
     "metadata": {},
     "output_type": "execute_result"
    }
   ],
   "source": [
    "# Model 2 Precision Score\n",
    "y_true = model2_subset.actual\n",
    "y_pred = model2_subset.model2\n",
    "round(recall_score(y_true, y_pred, average='micro'),4)\n"
   ]
  },
  {
   "cell_type": "code",
   "execution_count": 67,
   "id": "61119e4c",
   "metadata": {},
   "outputs": [
    {
     "data": {
      "text/plain": [
       "0.6599"
      ]
     },
     "execution_count": 67,
     "metadata": {},
     "output_type": "execute_result"
    }
   ],
   "source": [
    "# Model 3 Precision Score\n",
    "y_true = model3_subset.actual\n",
    "y_pred = model3_subset.model3\n",
    "round(recall_score(y_true, y_pred, average='micro'),4)"
   ]
  },
  {
   "cell_type": "code",
   "execution_count": 68,
   "id": "991200e2",
   "metadata": {},
   "outputs": [
    {
     "data": {
      "text/plain": [
       "0.7312"
      ]
     },
     "execution_count": 68,
     "metadata": {},
     "output_type": "execute_result"
    }
   ],
   "source": [
    "# Model 4 Precision Score\n",
    "y_true = model4_subset.actual\n",
    "y_pred = model4_subset.model4\n",
    "round(recall_score(y_true, y_pred, average='micro'),4)"
   ]
  },
  {
   "cell_type": "markdown",
   "id": "7d62be42",
   "metadata": {},
   "source": [
    "Use Recall_Score"
   ]
  },
  {
   "cell_type": "code",
   "execution_count": 76,
   "id": "bdcfa77f",
   "metadata": {},
   "outputs": [
    {
     "data": {
      "text/html": [
       "<div>\n",
       "<style scoped>\n",
       "    .dataframe tbody tr th:only-of-type {\n",
       "        vertical-align: middle;\n",
       "    }\n",
       "\n",
       "    .dataframe tbody tr th {\n",
       "        vertical-align: top;\n",
       "    }\n",
       "\n",
       "    .dataframe thead th {\n",
       "        text-align: right;\n",
       "    }\n",
       "</style>\n",
       "<table border=\"1\" class=\"dataframe\">\n",
       "  <thead>\n",
       "    <tr style=\"text-align: right;\">\n",
       "      <th></th>\n",
       "      <th>actual</th>\n",
       "      <th>model1</th>\n",
       "      <th>model2</th>\n",
       "      <th>model3</th>\n",
       "      <th>model4</th>\n",
       "      <th>baseline</th>\n",
       "    </tr>\n",
       "  </thead>\n",
       "  <tbody>\n",
       "    <tr>\n",
       "      <th>0</th>\n",
       "      <td>cat</td>\n",
       "      <td>cat</td>\n",
       "      <td>dog</td>\n",
       "      <td>cat</td>\n",
       "      <td>dog</td>\n",
       "      <td>dog</td>\n",
       "    </tr>\n",
       "    <tr>\n",
       "      <th>1</th>\n",
       "      <td>dog</td>\n",
       "      <td>dog</td>\n",
       "      <td>cat</td>\n",
       "      <td>cat</td>\n",
       "      <td>dog</td>\n",
       "      <td>dog</td>\n",
       "    </tr>\n",
       "    <tr>\n",
       "      <th>2</th>\n",
       "      <td>dog</td>\n",
       "      <td>cat</td>\n",
       "      <td>cat</td>\n",
       "      <td>cat</td>\n",
       "      <td>dog</td>\n",
       "      <td>dog</td>\n",
       "    </tr>\n",
       "    <tr>\n",
       "      <th>3</th>\n",
       "      <td>dog</td>\n",
       "      <td>dog</td>\n",
       "      <td>dog</td>\n",
       "      <td>cat</td>\n",
       "      <td>dog</td>\n",
       "      <td>dog</td>\n",
       "    </tr>\n",
       "    <tr>\n",
       "      <th>4</th>\n",
       "      <td>cat</td>\n",
       "      <td>cat</td>\n",
       "      <td>cat</td>\n",
       "      <td>dog</td>\n",
       "      <td>dog</td>\n",
       "      <td>dog</td>\n",
       "    </tr>\n",
       "  </tbody>\n",
       "</table>\n",
       "</div>"
      ],
      "text/plain": [
       "  actual model1 model2 model3 model4 baseline\n",
       "0    cat    cat    dog    cat    dog      dog\n",
       "1    dog    dog    cat    cat    dog      dog\n",
       "2    dog    cat    cat    cat    dog      dog\n",
       "3    dog    dog    dog    cat    dog      dog\n",
       "4    cat    cat    cat    dog    dog      dog"
      ]
     },
     "execution_count": 76,
     "metadata": {},
     "output_type": "execute_result"
    }
   ],
   "source": [
    "df_paws.head()"
   ]
  },
  {
   "cell_type": "code",
   "execution_count": 77,
   "id": "d763dbf7",
   "metadata": {},
   "outputs": [
    {
     "data": {
      "text/html": [
       "<div>\n",
       "<style scoped>\n",
       "    .dataframe tbody tr th:only-of-type {\n",
       "        vertical-align: middle;\n",
       "    }\n",
       "\n",
       "    .dataframe tbody tr th {\n",
       "        vertical-align: top;\n",
       "    }\n",
       "\n",
       "    .dataframe thead th {\n",
       "        text-align: right;\n",
       "    }\n",
       "</style>\n",
       "<table border=\"1\" class=\"dataframe\">\n",
       "  <thead>\n",
       "    <tr style=\"text-align: right;\">\n",
       "      <th></th>\n",
       "      <th>actual</th>\n",
       "      <th>model1</th>\n",
       "      <th>model2</th>\n",
       "      <th>model3</th>\n",
       "      <th>model4</th>\n",
       "      <th>baseline</th>\n",
       "    </tr>\n",
       "  </thead>\n",
       "  <tbody>\n",
       "    <tr>\n",
       "      <th>1</th>\n",
       "      <td>dog</td>\n",
       "      <td>dog</td>\n",
       "      <td>cat</td>\n",
       "      <td>cat</td>\n",
       "      <td>dog</td>\n",
       "      <td>dog</td>\n",
       "    </tr>\n",
       "    <tr>\n",
       "      <th>2</th>\n",
       "      <td>dog</td>\n",
       "      <td>cat</td>\n",
       "      <td>cat</td>\n",
       "      <td>cat</td>\n",
       "      <td>dog</td>\n",
       "      <td>dog</td>\n",
       "    </tr>\n",
       "    <tr>\n",
       "      <th>3</th>\n",
       "      <td>dog</td>\n",
       "      <td>dog</td>\n",
       "      <td>dog</td>\n",
       "      <td>cat</td>\n",
       "      <td>dog</td>\n",
       "      <td>dog</td>\n",
       "    </tr>\n",
       "    <tr>\n",
       "      <th>5</th>\n",
       "      <td>dog</td>\n",
       "      <td>dog</td>\n",
       "      <td>dog</td>\n",
       "      <td>dog</td>\n",
       "      <td>dog</td>\n",
       "      <td>dog</td>\n",
       "    </tr>\n",
       "    <tr>\n",
       "      <th>8</th>\n",
       "      <td>dog</td>\n",
       "      <td>dog</td>\n",
       "      <td>cat</td>\n",
       "      <td>dog</td>\n",
       "      <td>dog</td>\n",
       "      <td>dog</td>\n",
       "    </tr>\n",
       "  </tbody>\n",
       "</table>\n",
       "</div>"
      ],
      "text/plain": [
       "  actual model1 model2 model3 model4 baseline\n",
       "1    dog    dog    cat    cat    dog      dog\n",
       "2    dog    cat    cat    cat    dog      dog\n",
       "3    dog    dog    dog    cat    dog      dog\n",
       "5    dog    dog    dog    dog    dog      dog\n",
       "8    dog    dog    cat    dog    dog      dog"
      ]
     },
     "execution_count": 77,
     "metadata": {},
     "output_type": "execute_result"
    }
   ],
   "source": [
    "#create subset for recall on actual \n",
    "#dog is positive case\n",
    "subset_actual = df_paws[df_paws.actual == \"dog\"]\n",
    "subset_actual.head()"
   ]
  },
  {
   "cell_type": "code",
   "execution_count": 78,
   "id": "7bfbe927",
   "metadata": {},
   "outputs": [
    {
     "data": {
      "text/plain": [
       "0.803318992009834"
      ]
     },
     "execution_count": 78,
     "metadata": {},
     "output_type": "execute_result"
    }
   ],
   "source": [
    "# Model 1 Recall Score\n",
    "y_true = subset_actual.actual\n",
    "y_pred = subset_actual.model1\n",
    "recall_score(y_true, y_pred, average='micro')"
   ]
  },
  {
   "cell_type": "code",
   "execution_count": 79,
   "id": "6e18892b",
   "metadata": {},
   "outputs": [
    {
     "data": {
      "text/plain": [
       "0.49078057775046097"
      ]
     },
     "execution_count": 79,
     "metadata": {},
     "output_type": "execute_result"
    }
   ],
   "source": [
    "# Model 2 Recall Score\n",
    "y_true = subset_actual.actual\n",
    "y_pred = subset_actual.model2\n",
    "recall_score(y_true, y_pred, average='micro')"
   ]
  },
  {
   "cell_type": "code",
   "execution_count": 80,
   "id": "b3f29205",
   "metadata": {},
   "outputs": [
    {
     "data": {
      "text/plain": [
       "0.5086047940995697"
      ]
     },
     "execution_count": 80,
     "metadata": {},
     "output_type": "execute_result"
    }
   ],
   "source": [
    "# Model 3 Recall Score\n",
    "y_true = subset_actual.actual\n",
    "y_pred = subset_actual.model3\n",
    "recall_score(y_true, y_pred, average='micro')"
   ]
  },
  {
   "cell_type": "code",
   "execution_count": 81,
   "id": "9c97a291",
   "metadata": {},
   "outputs": [
    {
     "data": {
      "text/plain": [
       "0.9557467732022127"
      ]
     },
     "execution_count": 81,
     "metadata": {},
     "output_type": "execute_result"
    }
   ],
   "source": [
    "# Model 4 Recall Score\n",
    "y_true = subset_actual.actual\n",
    "y_pred = subset_actual.model4\n",
    "recall_score(y_true, y_pred, average='micro')"
   ]
  },
  {
   "cell_type": "markdown",
   "id": "7ec565b0",
   "metadata": {},
   "source": [
    "Use Classification_Report"
   ]
  },
  {
   "cell_type": "code",
   "execution_count": 95,
   "id": "383cadd4",
   "metadata": {},
   "outputs": [
    {
     "name": "stdout",
     "output_type": "stream",
     "text": [
      "              precision    recall  f1-score   support\n",
      "\n",
      "         cat       0.69      0.82      0.75      1746\n",
      "         dog       0.89      0.80      0.84      3254\n",
      "\n",
      "    accuracy                           0.81      5000\n",
      "   macro avg       0.79      0.81      0.80      5000\n",
      "weighted avg       0.82      0.81      0.81      5000\n",
      "\n"
     ]
    }
   ],
   "source": [
    "# Model 1 Classification Report\n",
    "y_true = df_paws.actual\n",
    "y_pred = df_paws.model1\n",
    "print(classification_report(y_true, y_pred))"
   ]
  },
  {
   "cell_type": "code",
   "execution_count": 100,
   "id": "59e18a27",
   "metadata": {},
   "outputs": [
    {
     "name": "stdout",
     "output_type": "stream",
     "text": [
      "              precision    recall  f1-score   support\n",
      "\n",
      "         cat       0.48      0.89      0.63      1746\n",
      "         dog       0.89      0.49      0.63      3254\n",
      "\n",
      "    accuracy                           0.63      5000\n",
      "   macro avg       0.69      0.69      0.63      5000\n",
      "weighted avg       0.75      0.63      0.63      5000\n",
      "\n"
     ]
    }
   ],
   "source": [
    "# Model 2 Classification Report\n",
    "y_true = df_paws.actual\n",
    "y_pred = df_paws.model2\n",
    "print(classification_report(y_true, y_pred))"
   ]
  },
  {
   "cell_type": "code",
   "execution_count": 101,
   "id": "845cf92c",
   "metadata": {},
   "outputs": [
    {
     "name": "stdout",
     "output_type": "stream",
     "text": [
      "              precision    recall  f1-score   support\n",
      "\n",
      "         cat       0.36      0.51      0.42      1746\n",
      "         dog       0.66      0.51      0.57      3254\n",
      "\n",
      "    accuracy                           0.51      5000\n",
      "   macro avg       0.51      0.51      0.50      5000\n",
      "weighted avg       0.55      0.51      0.52      5000\n",
      "\n"
     ]
    }
   ],
   "source": [
    "# Model 3 Classification Report\n",
    "y_true = df_paws.actual\n",
    "y_pred = df_paws.model3\n",
    "print(classification_report(y_true, y_pred))"
   ]
  },
  {
   "cell_type": "code",
   "execution_count": 102,
   "id": "4a91238f",
   "metadata": {},
   "outputs": [
    {
     "name": "stdout",
     "output_type": "stream",
     "text": [
      "              precision    recall  f1-score   support\n",
      "\n",
      "         cat       0.81      0.35      0.48      1746\n",
      "         dog       0.73      0.96      0.83      3254\n",
      "\n",
      "    accuracy                           0.74      5000\n",
      "   macro avg       0.77      0.65      0.66      5000\n",
      "weighted avg       0.76      0.74      0.71      5000\n",
      "\n"
     ]
    }
   ],
   "source": [
    "# Model 4 Classification Report\n",
    "y_true = df_paws.actual\n",
    "y_pred = df_paws.model4\n",
    "print(classification_report(y_true, y_pred))"
   ]
  },
  {
   "cell_type": "code",
   "execution_count": null,
   "id": "1b028a47",
   "metadata": {},
   "outputs": [],
   "source": []
  }
 ],
 "metadata": {
  "kernelspec": {
   "display_name": "Python 3 (ipykernel)",
   "language": "python",
   "name": "python3"
  },
  "language_info": {
   "codemirror_mode": {
    "name": "ipython",
    "version": 3
   },
   "file_extension": ".py",
   "mimetype": "text/x-python",
   "name": "python",
   "nbconvert_exporter": "python",
   "pygments_lexer": "ipython3",
   "version": "3.9.12"
  }
 },
 "nbformat": 4,
 "nbformat_minor": 5
}
